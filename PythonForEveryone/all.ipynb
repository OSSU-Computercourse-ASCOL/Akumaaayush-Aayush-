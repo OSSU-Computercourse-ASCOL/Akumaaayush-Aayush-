{
 "metadata": {
  "language_info": {
   "codemirror_mode": {
    "name": "ipython",
    "version": 3
   },
   "file_extension": ".py",
   "mimetype": "text/x-python",
   "name": "python",
   "nbconvert_exporter": "python",
   "pygments_lexer": "ipython3",
   "version": 3
  },
  "orig_nbformat": 2,
  "kernelspec": {
   "name": "python_defaultSpec_1597161767958",
   "display_name": "Python 3.8.2 64-bit"
  }
 },
 "nbformat": 4,
 "nbformat_minor": 2,
 "cells": [
  {
   "cell_type": "code",
   "execution_count": 10,
   "metadata": {
    "tags": []
   },
   "outputs": [
    {
     "output_type": "stream",
     "name": "stdout",
     "text": "9\n"
    }
   ],
   "source": [
    "import random\n",
    "\n",
    "print(random.randint(5,10))"
   ]
  },
  {
   "cell_type": "code",
   "execution_count": 17,
   "metadata": {
    "tags": []
   },
   "outputs": [
    {
     "output_type": "stream",
     "name": "stdout",
     "text": "Before: None\nLoop: 15 74\nLargest: 74\n"
    }
   ],
   "source": [
    "largest = None\n",
    "print('Before:', largest)\n",
    "for itervar in [3, 41, 12, 9, 74, 15]:\n",
    "    if largest is None or itervar > largest :\n",
    "        largest = itervar\n",
    "print('Loop:', itervar, largest)\n",
    "print('Largest:', largest)"
   ]
  },
  {
   "cell_type": "code",
   "execution_count": 36,
   "metadata": {
    "tags": []
   },
   "outputs": [
    {
     "output_type": "stream",
     "name": "stdout",
     "text": "99 298 149 448 224 112 56 28 14 7 22 11 34 17 52 26 13 40 20 10 5 16 8 4 2 1\n"
    }
   ],
   "source": [
    "n = int(input(\"Enter a number:\"))\n",
    "def funct(n):\n",
    "    while n != 1:\n",
    "        print(n, end = ' ')\n",
    "        if n %2 ==1:\n",
    "            n = n *3 + 1\n",
    "        else:\n",
    "            n=n// 2\n",
    "\n",
    "    print(n)\n",
    "funct(n)\n"
   ]
  },
  {
   "cell_type": "code",
   "execution_count": 59,
   "metadata": {
    "tags": []
   },
   "outputs": [
    {
     "output_type": "stream",
     "name": "stdout",
     "text": "d\nn\nk\ns\np\na\nd\nn\ns\np\na\nn\nd\ns\na\nd\ns\na\nd\na\n\n \n\na\nd\na\ns\nd\na\ns\nd\nn\na\np\ns\nn\nd\na\np\ns\nk\nn\nd\n"
    }
   ],
   "source": [
    "fruit = 'adasdasdnapsndapsknd'\n",
    "n = len(fruit)\n",
    "while n > 0:\n",
    "    print(fruit[n -1])\n",
    "    n= n-1\n",
    "print('\\n \\n')\n",
    "for char in fruit:\n",
    "    print(char)"
   ]
  },
  {
   "cell_type": "code",
   "execution_count": 6,
   "metadata": {
    "tags": []
   },
   "outputs": [
    {
     "output_type": "stream",
     "name": "stdout",
     "text": "18\n0.8475\n"
    }
   ],
   "source": [
    "str = 'X-DSPAM-Confidence:0.8475'\n",
    "s = str.find(':')\n",
    "print(s)\n",
    "print(float(str[s+1:]))\n"
   ]
  },
  {
   "cell_type": "code",
   "execution_count": 2,
   "metadata": {
    "tags": []
   },
   "outputs": [
    {
     "output_type": "execute_result",
     "data": {
      "text/plain": "['__add__',\n '__class__',\n '__contains__',\n '__delattr__',\n '__dir__',\n '__doc__',\n '__eq__',\n '__format__',\n '__ge__',\n '__getattribute__',\n '__getitem__',\n '__getnewargs__',\n '__gt__',\n '__hash__',\n '__init__',\n '__init_subclass__',\n '__iter__',\n '__le__',\n '__len__',\n '__lt__',\n '__mod__',\n '__mul__',\n '__ne__',\n '__new__',\n '__reduce__',\n '__reduce_ex__',\n '__repr__',\n '__rmod__',\n '__rmul__',\n '__setattr__',\n '__sizeof__',\n '__str__',\n '__subclasshook__',\n 'capitalize',\n 'casefold',\n 'center',\n 'count',\n 'encode',\n 'endswith',\n 'expandtabs',\n 'find',\n 'format',\n 'format_map',\n 'index',\n 'isalnum',\n 'isalpha',\n 'isascii',\n 'isdecimal',\n 'isdigit',\n 'isidentifier',\n 'islower',\n 'isnumeric',\n 'isprintable',\n 'isspace',\n 'istitle',\n 'isupper',\n 'join',\n 'ljust',\n 'lower',\n 'lstrip',\n 'maketrans',\n 'partition',\n 'replace',\n 'rfind',\n 'rindex',\n 'rjust',\n 'rpartition',\n 'rsplit',\n 'rstrip',\n 'split',\n 'splitlines',\n 'startswith',\n 'strip',\n 'swapcase',\n 'title',\n 'translate',\n 'upper',\n 'zfill']"
     },
     "metadata": {},
     "execution_count": 2
    }
   ],
   "source": [
    "c = 'asda'\n",
    "type(c)\n",
    "dir(c)\n"
   ]
  },
  {
   "cell_type": "code",
   "execution_count": 7,
   "metadata": {},
   "outputs": [
    {
     "output_type": "execute_result",
     "data": {
      "text/plain": "'Amount--------------------------------------------'"
     },
     "metadata": {},
     "execution_count": 7
    }
   ],
   "source": [
    "\"Amount\".ljust(50, '-')\n"
   ]
  },
  {
   "cell_type": "code",
   "execution_count": 20,
   "metadata": {
    "tags": []
   },
   "outputs": [
    {
     "output_type": "stream",
     "name": "stdout",
     "text": "----\n"
    },
    {
     "output_type": "execute_result",
     "data": {
      "text/plain": "'https://www.nytimes.com/2020/07/31/technology/twitter-hack-arrest.html?fbclid=IwAR3jj3-2_YwqCsGwjd07pLPCDUP7EKnJGeIpmpBVT2Sz0Md8iWJbuyvWU7o'"
     },
     "metadata": {},
     "execution_count": 20
    }
   ],
   "source": [
    "import pyperclip\n",
    "# pyperclip.copy('K cha khabar')\n",
    "print('-'*4)\n",
    "pyperclip.paste()\n"
   ]
  },
  {
   "cell_type": "code",
   "execution_count": 8,
   "metadata": {
    "tags": []
   },
   "outputs": [
    {
     "output_type": "stream",
     "name": "stdout",
     "text": "<_io.TextIOWrapper name='mbox.txt' mode='r' encoding='cp1252'>\n132045\n"
    }
   ],
   "source": [
    "file = open('mbox.txt')\n",
    "print(file)\n",
    "count = 0\n",
    "for line in file:\n",
    "    count = count +1\n",
    "print(count)\n"
   ]
  },
  {
   "cell_type": "code",
   "execution_count": 15,
   "metadata": {
    "tags": []
   },
   "outputs": [
    {
     "output_type": "stream",
     "name": "stdout",
     "text": "6687002\n"
    }
   ],
   "source": [
    "file = open('mbox.txt')\n",
    "inp = file.read()\n",
    "print(len(inp))"
   ]
  },
  {
   "cell_type": "code",
   "execution_count": 20,
   "metadata": {
    "tags": [
     "outputPrepend"
    ]
   },
   "outputs": [
    {
     "output_type": "stream",
     "name": "stdout",
     "text": "@vt.edu\nFrom: rjlowe@iupui.edu\nFrom: rjlowe@iupui.edu\nFrom: rjlowe@iupui.edu\nFrom: ian@caret.cam.ac.uk\nFrom: gopal.ramasammycook@gmail.com\nFrom: ian@caret.cam.ac.uk\nFrom: david.horwitz@uct.ac.za\nFrom: gopal.ramasammycook@gmail.com\nFrom: antranig@caret.cam.ac.uk\nFrom: arwhyte@umich.edu\nFrom: arwhyte@umich.edu\nFrom: arwhyte@umich.edu\nFrom: ian@caret.cam.ac.uk\nFrom: ian@caret.cam.ac.uk\nFrom: ray@media.berkeley.edu\nFrom: ktsao@stanford.edu\nFrom: sgithens@caret.cam.ac.uk\nFrom: zqian@umich.edu\nFrom: cwen@iupui.edu\nFrom: antranig@caret.cam.ac.uk\nFrom: zqian@umich.edu\nFrom: jimeng@umich.edu\nFrom: jimeng@umich.edu\nFrom: antranig@caret.cam.ac.uk\nFrom: antranig@caret.cam.ac.uk\nFrom: ssmail@indiana.edu\nFrom: ian@caret.cam.ac.uk\nFrom: ian@caret.cam.ac.uk\nFrom: zqian@umich.edu\nFrom: ian@caret.cam.ac.uk\nFrom: aaronz@vt.edu\nFrom: zqian@umich.edu\nFrom: ian@caret.cam.ac.uk\nFrom: aaronz@vt.edu\nFrom: mmmay@indiana.edu\nFrom: gopal.ramasammycook@gmail.com\nFrom: aaronz@vt.edu\nFrom: mmmay@indiana.edu\nFrom: mmmay@indiana.edu\nFrom: mmmay@indiana.edu\nFrom: ian@caret.cam.ac.uk\nFrom: mmmay@indiana.edu\nFrom: jimeng@umich.edu\nFrom: mmmay@indiana.edu\nFrom: mmmay@indiana.edu\nFrom: mmmay@indiana.edu\nFrom: mmmay@indiana.edu\nFrom: mmmay@indiana.edu\nFrom: mmmay@indiana.edu\nFrom: mmmay@indiana.edu\nFrom: mmmay@indiana.edu\nFrom: mmmay@indiana.edu\nFrom: mmmay@indiana.edu\nFrom: mmmay@indiana.edu\nFrom: lance@indiana.edu\nFrom: sgithens@caret.cam.ac.uk\nFrom: aaronz@vt.edu\nFrom: rjlowe@iupui.edu\nFrom: rjlowe@iupui.edu\nFrom: rjlowe@iupui.edu\nFrom: rjlowe@iupui.edu\nFrom: rjlowe@iupui.edu\nFrom: rjlowe@iupui.edu\nFrom: rjlowe@iupui.edu\nFrom: rjlowe@iupui.edu\nFrom: rjlowe@iupui.edu\nFrom: rjlowe@iupui.edu\nFrom: rjlowe@iupui.edu\nFrom: rjlowe@iupui.edu\nFrom: rjlowe@iupui.edu\nFrom: rjlowe@iupui.edu\nFrom: rjlowe@iupui.edu\nFrom: rjlowe@iupui.edu\nFrom: rjlowe@iupui.edu\nFrom: rjlowe@iupui.edu\nFrom: jimeng@umich.edu\nFrom: jimeng@umich.edu\nFrom: jimeng@umich.edu\nFrom: jimeng@umich.edu\nFrom: jimeng@umich.edu\nFrom: jimeng@umich.edu\nFrom: jimeng@umich.edu\nFrom: jimeng@umich.edu\nFrom: jimeng@umich.edu\nFrom: jimeng@umich.edu\nFrom: john.ellis@rsmart.com\nFrom: mmmay@indiana.edu\nFrom: mmmay@indiana.edu\nFrom: mmmay@indiana.edu\nFrom: mmmay@indiana.edu\nFrom: ktsao@stanford.edu\nFrom: jimeng@umich.edu\nFrom: jimeng@umich.edu\nFrom: jimeng@umich.edu\nFrom: cwen@iupui.edu\nFrom: mmmay@indiana.edu\nFrom: zqian@umich.edu\nFrom: mmmay@indiana.edu\nFrom: mmmay@indiana.edu\nFrom: mmmay@indiana.edu\nFrom: mmmay@indiana.edu\nFrom: mmmay@indiana.edu\nFrom: mmmay@indiana.edu\nFrom: mmmay@indiana.edu\nFrom: mmmay@indiana.edu\nFrom: mmmay@indiana.edu\nFrom: thoppaymallika@fhda.edu\nFrom: chmaurer@iupui.edu\nFrom: mmmay@indiana.edu\nFrom: mmmay@indiana.edu\nFrom: mmmay@indiana.edu\nFrom: mmmay@indiana.edu\nFrom: mmmay@indiana.edu\nFrom: mmmay@indiana.edu\nFrom: mmmay@indiana.edu\nFrom: mmmay@indiana.edu\nFrom: chmaurer@iupui.edu\nFrom: sgithens@caret.cam.ac.uk\nFrom: chmaurer@iupui.edu\nFrom: gsilver@umich.edu\nFrom: zqian@umich.edu\nFrom: chmaurer@iupui.edu\nFrom: chmaurer@iupui.edu\nFrom: chmaurer@iupui.edu\nFrom: aaronz@vt.edu\nFrom: aaronz@vt.edu\nFrom: sgithens@caret.cam.ac.uk\nFrom: david.horwitz@uct.ac.za\nFrom: zqian@umich.edu\nFrom: sgithens@caret.cam.ac.uk\nFrom: ajpoland@iupui.edu\nFrom: cwen@iupui.edu\nFrom: gsilver@umich.edu\nFrom: sgithens@caret.cam.ac.uk\nFrom: jimeng@umich.edu\nFrom: zqian@umich.edu\nFrom: sgithens@caret.cam.ac.uk\nFrom: sgithens@caret.cam.ac.uk\nFrom: aaronz@vt.edu\nFrom: aaronz@vt.edu\nFrom: ian@caret.cam.ac.uk\nFrom: ian@caret.cam.ac.uk\nFrom: bkirschn@umich.edu\nFrom: antranig@caret.cam.ac.uk\nFrom: antranig@caret.cam.ac.uk\nFrom: zqian@umich.edu\nFrom: jimeng@umich.edu\nFrom: jimeng@umich.edu\nFrom: jimeng@umich.edu\nFrom: gopal.ramasammycook@gmail.com\nFrom: zqian@umich.edu\nFrom: jimeng@umich.edu\nFrom: jimeng@umich.edu\nFrom: jimeng@umich.edu\nFrom: jimeng@umich.edu\nFrom: jimeng@umich.edu\nFrom: jimeng@umich.edu\nFrom: jimeng@umich.edu\nFrom: jimeng@umich.edu\nFrom: john.ellis@rsmart.com\nFrom: ajpoland@iupui.edu\nFrom: chmaurer@iupui.edu\nFrom: antranig@caret.cam.ac.uk\nFrom: antranig@caret.cam.ac.uk\nFrom: rjlowe@iupui.edu\nFrom: rjlowe@iupui.edu\nFrom: rjlowe@iupui.edu\nFrom: rjlowe@iupui.edu\nFrom: rjlowe@iupui.edu\nFrom: rjlowe@iupui.edu\nFrom: rjlowe@iupui.edu\nFrom: rjlowe@iupui.edu\nFrom: rjlowe@iupui.edu\nFrom: rjlowe@iupui.edu\nFrom: rjlowe@iupui.edu\nFrom: rjlowe@iupui.edu\nFrom: zqian@umich.edu\nFrom: antranig@caret.cam.ac.uk\nFrom: zqian@umich.edu\nFrom: rjlowe@iupui.edu\nFrom: zqian@umich.edu\nFrom: zqian@umich.edu\nFrom: rjlowe@iupui.edu\nFrom: gopal.ramasammycook@gmail.com\nFrom: zqian@umich.edu\nFrom: kimsooil@bu.edu\nFrom: kimsooil@bu.edu\nFrom: kimsooil@bu.edu\nFrom: zqian@umich.edu\nFrom: ostermmg@whitman.edu\nFrom: jimeng@umich.edu\nFrom: jimeng@umich.edu\nFrom: jimeng@umich.edu\nFrom: jimeng@umich.edu\nFrom: jimeng@umich.edu\nFrom: jimeng@umich.edu\nFrom: zqian@umich.edu\nFrom: jimeng@umich.edu\nFrom: jimeng@umich.edu\nFrom: jimeng@umich.edu\nFrom: jimeng@umich.edu\nFrom: ray@media.berkeley.edu\nFrom: ostermmg@whitman.edu\nFrom: josrodri@iupui.edu\nFrom: ostermmg@whitman.edu\nFrom: ostermmg@whitman.edu\nFrom: ostermmg@whitman.edu\nFrom: rjlowe@iupui.edu\nFrom: antranig@caret.cam.ac.uk\nFrom: antranig@caret.cam.ac.uk\nFrom: josrodri@iupui.edu\nFrom: zqian@umich.edu\nFrom: rjlowe@iupui.edu\nFrom: ian@caret.cam.ac.uk\nFrom: antranig@caret.cam.ac.uk\nFrom: zqian@umich.edu\nFrom: wagnermr@iupui.edu\nFrom: gsilver@umich.edu\nFrom: gopal.ramasammycook@gmail.com\nFrom: ajpoland@iupui.edu\nFrom: wagnermr@iupui.edu\nFrom: wagnermr@iupui.edu\nFrom: aaronz@vt.edu\nFrom: aaronz@vt.edu\nFrom: ajpoland@iupui.edu\nFrom: wagnermr@iupui.edu\nFrom: wagnermr@iupui.edu\nFrom: david.horwitz@uct.ac.za\nFrom: ray@media.berkeley.edu\nFrom: ostermmg@whitman.edu\nFrom: ostermmg@whitman.edu\nFrom: ostermmg@whitman.edu\nFrom: ostermmg@whitman.edu\nFrom: ostermmg@whitman.edu\nFrom: ajpoland@iupui.edu\nFrom: ostermmg@whitman.edu\nFrom: cwen@iupui.edu\nFrom: jimeng@umich.edu\nFrom: josrodri@iupui.edu\nFrom: zqian@umich.edu\nFrom: zqian@umich.edu\nFrom: zqian@umich.edu\nFrom: aaronz@vt.edu\nFrom: aaronz@vt.edu\nFrom: wagnermr@iupui.edu\nFrom: hu2@iupui.edu\nFrom: josrodri@iupui.edu\nFrom: wagnermr@iupui.edu\nFrom: rjlowe@iupui.edu\nFrom: zqian@umich.edu\nFrom: zqian@umich.edu\nFrom: gopal.ramasammycook@gmail.com\nFrom: david.horwitz@uct.ac.za\nFrom: david.horwitz@uct.ac.za\nFrom: david.horwitz@uct.ac.za\nFrom: david.horwitz@uct.ac.za\nFrom: ian@caret.cam.ac.uk\nFrom: ajpoland@iupui.edu\nFrom: aaronz@vt.edu\nFrom: aaronz@vt.edu\nFrom: aaronz@vt.edu\nFrom: jimeng@umich.edu\nFrom: aaronz@vt.edu\nFrom: aaronz@vt.edu\nFrom: aaronz@vt.edu\nFrom: rjlowe@iupui.edu\nFrom: jimeng@umich.edu\nFrom: sgithens@caret.cam.ac.uk\nFrom: sgithens@caret.cam.ac.uk\nFrom: aaronz@vt.edu\nFrom: aaronz@vt.edu\nFrom: aaronz@vt.edu\nFrom: aaronz@vt.edu\nFrom: aaronz@vt.edu\nFrom: aaronz@vt.edu\nFrom: aaronz@vt.edu\nFrom: rjlowe@iupui.edu\nFrom: rjlowe@iupui.edu\nFrom: rjlowe@iupui.edu\nFrom: ray@media.berkeley.edu\nFrom: ajpoland@iupui.edu\nFrom: rjlowe@iupui.edu\nFrom: ajpoland@iupui.edu\nFrom: rjlowe@iupui.edu\nFrom: rjlowe@iupui.edu\nFrom: rjlowe@iupui.edu\nFrom: cwen@iupui.edu\nFrom: bkirschn@umich.edu\nFrom: gsilver@umich.edu\nFrom: john.ellis@rsmart.com\nFrom: aaronz@vt.edu\nFrom: bkirschn@umich.edu\nFrom: gopal.ramasammycook@gmail.com\nFrom: chmaurer@iupui.edu\nFrom: chmaurer@iupui.edu\nFrom: chmaurer@iupui.edu\nFrom: dlhaines@umich.edu\nFrom: dlhaines@umich.edu\nFrom: ajpoland@iupui.edu\nFrom: aaronz@vt.edu\nFrom: sgithens@caret.cam.ac.uk\nFrom: aaronz@vt.edu\nFrom: jimeng@umich.edu\nFrom: ostermmg@whitman.edu\nFrom: ostermmg@whitman.edu\nFrom: jimeng@umich.edu\nFrom: aaronz@vt.edu\nFrom: aaronz@vt.edu\nFrom: dlhaines@umich.edu\nFrom: dlhaines@umich.edu\nFrom: dlhaines@umich.edu\nFrom: dlhaines@umich.edu\nFrom: dlhaines@umich.edu\nFrom: sgithens@caret.cam.ac.uk\nFrom: dlhaines@umich.edu\nFrom: dlhaines@umich.edu\nFrom: gopal.ramasammycook@gmail.com\nFrom: zqian@umich.edu\nFrom: chmaurer@iupui.edu\nFrom: chmaurer@iupui.edu\nFrom: dlhaines@umich.edu\nFrom: wagnermr@iupui.edu\nFrom: aaronz@vt.edu\nFrom: chmaurer@iupui.edu\nFrom: chmaurer@iupui.edu\nFrom: wagnermr@iupui.edu\nFrom: ian@caret.cam.ac.uk\nFrom: aaronz@vt.edu\nFrom: aaronz@vt.edu\nFrom: ian@caret.cam.ac.uk\nFrom: aaronz@vt.edu\nFrom: aaronz@vt.edu\nFrom: aaronz@vt.edu\nFrom: zqian@umich.edu\nFrom: aaronz@vt.edu\nFrom: aaronz@vt.edu\nFrom: aaronz@vt.edu\nFrom: kimsooil@bu.edu\nFrom: kimsooil@bu.edu\nFrom: aaronz@vt.edu\nFrom: nuno@ufp.pt\nFrom: arwhyte@umich.edu\nFrom: dlhaines@umich.edu\nFrom: dlhaines@umich.edu\nFrom: ajpoland@iupui.edu\nFrom: mmmay@indiana.edu\nFrom: zqian@umich.edu\nFrom: mmmay@indiana.edu\nFrom: ajpoland@iupui.edu\nFrom: rjlowe@iupui.edu\nFrom: rjlowe@iupui.edu\nFrom: aaronz@vt.edu\nFrom: aaronz@vt.edu\nFrom: aaronz@vt.edu\nFrom: ajpoland@iupui.edu\nFrom: wagnermr@iupui.edu\nFrom: aaronz@vt.edu\nFrom: aaronz@vt.edu\nFrom: aaronz@vt.edu\nFrom: aaronz@vt.edu\nFrom: aaronz@vt.edu\nFrom: aaronz@vt.edu\nFrom: aaronz@vt.edu\nFrom: aaronz@vt.edu\nFrom: aaronz@vt.edu\nFrom: sgithens@caret.cam.ac.uk\nFrom: ian@caret.cam.ac.uk\nFrom: mmmay@indiana.edu\nFrom: mmmay@indiana.edu\nFrom: mmmay@indiana.edu\nFrom: josrodri@iupui.edu\nFrom: josrodri@iupui.edu\nFrom: mmmay@indiana.edu\nFrom: mmmay@indiana.edu\nFrom: mmmay@indiana.edu\nFrom: mmmay@indiana.edu\nFrom: dlhaines@umich.edu\nFrom: dlhaines@umich.edu\nFrom: josrodri@iupui.edu\nFrom: zqian@umich.edu\nFrom: arwhyte@umich.edu\nFrom: rjlowe@iupui.edu\nFrom: dlhaines@umich.edu\nFrom: arwhyte@umich.edu\nFrom: arwhyte@umich.edu\nFrom: arwhyte@umich.edu\nFrom: arwhyte@umich.edu\nFrom: dlhaines@umich.edu\nFrom: dlhaines@umich.edu\nFrom: arwhyte@umich.edu\nFrom: arwhyte@umich.edu\nFrom: arwhyte@umich.edu\nFrom: arwhyte@umich.edu\nFrom: arwhyte@umich.edu\nFrom: wagnermr@iupui.edu\nFrom: zqian@umich.edu\nFrom: zqian@umich.edu\nFrom: mmmay@indiana.edu\nFrom: josrodri@iupui.edu\nFrom: gjthomas@iupui.edu\nFrom: mmmay@indiana.edu\nFrom: mmmay@indiana.edu\nFrom: mmmay@indiana.edu\nFrom: mmmay@indiana.edu\nFrom: mmmay@indiana.edu\nFrom: mmmay@indiana.edu\nFrom: mmmay@indiana.edu\nFrom: mmmay@indiana.edu\nFrom: sgithens@caret.cam.ac.uk\nFrom: mmmay@indiana.edu\nFrom: mmmay@indiana.edu\nFrom: mmmay@indiana.edu\nFrom: ray@media.berkeley.edu\nFrom: mmmay@indiana.edu\nFrom: mmmay@indiana.edu\nFrom: david.horwitz@uct.ac.za\nFrom: antranig@caret.cam.ac.uk\nFrom: ggolden@umich.edu\nFrom: antranig@caret.cam.ac.uk\nFrom: ggolden@umich.edu\nFrom: mmmay@indiana.edu\nFrom: mmmay@indiana.edu\nFrom: david.horwitz@uct.ac.za\nFrom: mmmay@indiana.edu\nFrom: mmmay@indiana.edu\nFrom: mmmay@indiana.edu\nFrom: mmmay@indiana.edu\nFrom: mmmay@indiana.edu\nFrom: mmmay@indiana.edu\nFrom: mmmay@indiana.edu\nFrom: mmmay@indiana.edu\nFrom: mmmay@indiana.edu\nFrom: wagnermr@iupui.edu\nFrom: rjlowe@iupui.edu\nFrom: gopal.ramasammycook@gmail.com\nFrom: david.horwitz@uct.ac.za\nFrom: zqian@umich.edu\nFrom: zqian@umich.edu\nFrom: ian@caret.cam.ac.uk\nFrom: ray@media.berkeley.edu\nFrom: hu2@iupui.edu\nFrom: mmmay@indiana.edu\nFrom: bkirschn@umich.edu\nFrom: mmmay@indiana.edu\nFrom: mmmay@indiana.edu\nFrom: mmmay@indiana.edu\nFrom: mmmay@indiana.edu\nFrom: mmmay@indiana.edu\nFrom: zqian@umich.edu\nFrom: zqian@umich.edu\nFrom: zqian@umich.edu\nFrom: ray@media.berkeley.edu\nFrom: ray@media.berkeley.edu\nFrom: zqian@umich.edu\nFrom: zqian@umich.edu\nFrom: csev@umich.edu\nFrom: josrodri@iupui.edu\nFrom: csev@umich.edu\nFrom: zqian@umich.edu\nFrom: bahollad@indiana.edu\nFrom: aaronz@vt.edu\nFrom: jzaremba@unicon.net\nFrom: ajpoland@iupui.edu\nFrom: aaronz@vt.edu\nFrom: csev@umich.edu\nFrom: rjlowe@iupui.edu\nFrom: nuno@ufp.pt\nFrom: nuno@ufp.pt\nFrom: mmmay@indiana.edu\nFrom: bkirschn@umich.edu\nFrom: jimeng@umich.edu\nFrom: bkirschn@umich.edu\nFrom: bkirschn@umich.edu\nFrom: zqian@umich.edu\nFrom: zqian@umich.edu\nFrom: aaronz@vt.edu\nFrom: john.ellis@rsmart.com\nFrom: zqian@umich.edu\nFrom: jzaremba@unicon.net\nFrom: jimeng@umich.edu\nFrom: bkirschn@umich.edu\nFrom: bkirschn@umich.edu\nFrom: bkirschn@umich.edu\nFrom: bkirschn@umich.edu\nFrom: zqian@umich.edu\nFrom: ktsao@stanford.edu\nFrom: mmmay@indiana.edu\nFrom: dlhaines@umich.edu\nFrom: zqian@umich.edu\nFrom: dlhaines@umich.edu\nFrom: bkirschn@umich.edu\nFrom: zqian@umich.edu\nFrom: bkirschn@umich.edu\nFrom: ray@media.berkeley.edu\nFrom: ian@caret.cam.ac.uk\nFrom: ian@caret.cam.ac.uk\nFrom: zach.thomas@txstate.edu\nFrom: ostermmg@whitman.edu\nFrom: bkirschn@umich.edu\nFrom: mmmay@indiana.edu\nFrom: mmmay@indiana.edu\nFrom: mmmay@indiana.edu\nFrom: wagnermr@iupui.edu\nFrom: mmmay@indiana.edu\nFrom: mmmay@indiana.edu\nFrom: mmmay@indiana.edu\nFrom: zach.thomas@txstate.edu\nFrom: wagnermr@iupui.edu\nFrom: gsilver@umich.edu\nFrom: gjthomas@iupui.edu\nFrom: gjthomas@iupui.edu\nFrom: hu2@iupui.edu\nFrom: ajpoland@iupui.edu\nFrom: wagnermr@iupui.edu\nFrom: david.horwitz@uct.ac.za\nFrom: zqian@umich.edu\nFrom: jzaremba@unicon.net\nFrom: cwen@iupui.edu\nFrom: ktsao@stanford.edu\nFrom: bahollad@indiana.edu\nFrom: zach.thomas@txstate.edu\nFrom: cwen@iupui.edu\nFrom: ajpoland@iupui.edu\nFrom: wagnermr@iupui.edu\nFrom: wagnermr@iupui.edu\nFrom: aaronz@vt.edu\nFrom: sgithens@caret.cam.ac.uk\nFrom: a.fish@lancaster.ac.uk\nFrom: aaronz@vt.edu\nFrom: david.horwitz@uct.ac.za\nFrom: david.horwitz@uct.ac.za\nFrom: zqian@umich.edu\nFrom: jzaremba@unicon.net\nFrom: zach.thomas@txstate.edu\nFrom: jzaremba@unicon.net\nFrom: dlhaines@umich.edu\nFrom: dlhaines@umich.edu\nFrom: dlhaines@umich.edu\nFrom: dlhaines@umich.edu\nFrom: dlhaines@umich.edu\nFrom: dlhaines@umich.edu\nFrom: dlhaines@umich.edu\nFrom: zqian@umich.edu\nFrom: chmaurer@iupui.edu\nFrom: john.ellis@rsmart.com\nFrom: ajpoland@iupui.edu\nFrom: rjlowe@iupui.edu\nFrom: chmaurer@iupui.edu\nFrom: ajpoland@iupui.edu\nFrom: rjlowe@iupui.edu\nFrom: kimsooil@bu.edu\nFrom: dlhaines@umich.edu\nFrom: dlhaines@umich.edu\nFrom: dlhaines@umich.edu\nFrom: zqian@umich.edu\nFrom: kimsooil@bu.edu\nFrom: nuno@ufp.pt\nFrom: kimsooil@bu.edu\nFrom: ajpoland@iupui.edu\nFrom: chmaurer@iupui.edu\nFrom: ajpoland@iupui.edu\nFrom: ajpoland@iupui.edu\nFrom: ajpoland@iupui.edu\nFrom: ajpoland@iupui.edu\nFrom: ajpoland@iupui.edu\nFrom: ajpoland@iupui.edu\nFrom: ajpoland@iupui.edu\nFrom: ajpoland@iupui.edu\nFrom: ajpoland@iupui.edu\nFrom: ajpoland@iupui.edu\nFrom: ajpoland@iupui.edu\nFrom: ajpoland@iupui.edu\nFrom: ajpoland@iupui.edu\nFrom: ajpoland@iupui.edu\nFrom: ajpoland@iupui.edu\nFrom: ajpoland@iupui.edu\nFrom: ajpoland@iupui.edu\nFrom: ajpoland@iupui.edu\nFrom: ajpoland@iupui.edu\nFrom: dlhaines@umich.edu\nFrom: rjlowe@iupui.edu\nFrom: rjlowe@iupui.edu\nFrom: wagnermr@iupui.edu\nFrom: david.horwitz@uct.ac.za\nFrom: jleasia@umich.edu\nFrom: david.horwitz@uct.ac.za\nFrom: mmmay@indiana.edu\nFrom: mmmay@indiana.edu\nFrom: mmmay@indiana.edu\nFrom: mmmay@indiana.edu\nFrom: mmmay@indiana.edu\nFrom: mmmay@indiana.edu\nFrom: mmmay@indiana.edu\nFrom: mmmay@indiana.edu\nFrom: mmmay@indiana.edu\nFrom: mmmay@indiana.edu\nFrom: mmmay@indiana.edu\nFrom: mmmay@indiana.edu\nFrom: mmmay@indiana.edu\nFrom: mmmay@indiana.edu\nFrom: mmmay@indiana.edu\nFrom: mmmay@indiana.edu\nFrom: mmmay@indiana.edu\nFrom: mmmay@indiana.edu\nFrom: mmmay@indiana.edu\nFrom: mmmay@indiana.edu\nFrom: mmmay@indiana.edu\nFrom: mmmay@indiana.edu\nFrom: mmmay@indiana.edu\nFrom: mmmay@indiana.edu\nFrom: mmmay@indiana.edu\nFrom: cwen@iupui.edu\nFrom: mmmay@indiana.edu\nFrom: mmmay@indiana.edu\nFrom: mmmay@indiana.edu\nFrom: kimsooil@bu.edu\nFrom: mmmay@indiana.edu\nFrom: zqian@umich.edu\nFrom: mmmay@indiana.edu\nFrom: mmmay@indiana.edu\nFrom: mmmay@indiana.edu\nFrom: mmmay@indiana.edu\nFrom: mmmay@indiana.edu\nFrom: mmmay@indiana.edu\nFrom: mmmay@indiana.edu\nFrom: mmmay@indiana.edu\nFrom: mmmay@indiana.edu\nFrom: mmmay@indiana.edu\nFrom: kimsooil@bu.edu\nFrom: aaronz@vt.edu\nFrom: dlhaines@umich.edu\nFrom: zqian@umich.edu\nFrom: mmmay@indiana.edu\nFrom: dlhaines@umich.edu\nFrom: cwen@iupui.edu\nFrom: kimsooil@bu.edu\nFrom: kimsooil@bu.edu\nFrom: kimsooil@bu.edu\nFrom: hu2@iupui.edu\nFrom: zqian@umich.edu\nFrom: kimsooil@bu.edu\nFrom: aaronz@vt.edu\nFrom: aaronz@vt.edu\nFrom: aaronz@vt.edu\nFrom: rjlowe@iupui.edu\nFrom: ajpoland@iupui.edu\nFrom: rjlowe@iupui.edu\nFrom: rjlowe@iupui.edu\nFrom: hu2@iupui.edu\nFrom: dlhaines@umich.edu\nFrom: a.fish@lancaster.ac.uk\nFrom: a.fish@lancaster.ac.uk\nFrom: a.fish@lancaster.ac.uk\nFrom: gsilver@umich.edu\nFrom: mbreuker@loi.nl\nFrom: mbreuker@loi.nl\nFrom: mbreuker@loi.nl\nFrom: mbreuker@loi.nl\nFrom: mbreuker@loi.nl\nFrom: mbreuker@loi.nl\nFrom: ajpoland@iupui.edu\nFrom: rjlowe@iupui.edu\nFrom: rjlowe@iupui.edu\nFrom: a.fish@lancaster.ac.uk\nFrom: a.fish@lancaster.ac.uk\nFrom: a.fish@lancaster.ac.uk\nFrom: dlhaines@umich.edu\nFrom: mbreuker@loi.nl\nFrom: david.horwitz@uct.ac.za\nFrom: zach.thomas@txstate.edu\nFrom: jimeng@umich.edu\nFrom: zqian@umich.edu\nFrom: jzaremba@unicon.net\nFrom: colin.clark@utoronto.ca\nFrom: ray@media.berkeley.edu\nFrom: ray@media.berkeley.edu\nFrom: ray@media.berkeley.edu\nFrom: ray@media.berkeley.edu\nFrom: louis@media.berkeley.edu\nFrom: dlhaines@umich.edu\nFrom: dlhaines@umich.edu\nFrom: dlhaines@umich.edu\nFrom: dlhaines@umich.edu\nFrom: ajpoland@iupui.edu\nFrom: wagnermr@iupui.edu\nFrom: zqian@umich.edu\nFrom: ktsao@stanford.edu\nFrom: ray@media.berkeley.edu\nFrom: aaronz@vt.edu\nFrom: zqian@umich.edu\nFrom: aaronz@vt.edu\nFrom: bahollad@indiana.edu\nFrom: aaronz@vt.edu\nFrom: zqian@umich.edu\nFrom: ray@media.berkeley.edu\nFrom: zqian@umich.edu\nFrom: zqian@umich.edu\nFrom: zqian@umich.edu\nFrom: bahollad@indiana.edu\nFrom: ray@media.berkeley.edu\nFrom: zqian@umich.edu\nFrom: zqian@umich.edu\nFrom: louis@media.berkeley.edu\nFrom: zqian@umich.edu\nFrom: ray@media.berkeley.edu\nFrom: jzaremba@unicon.net\nFrom: louis@media.berkeley.edu\nFrom: rjlowe@iupui.edu\nFrom: ajpoland@iupui.edu\nFrom: ray@media.berkeley.edu\nFrom: ajpoland@iupui.edu\nFrom: rjlowe@iupui.edu\nFrom: ray@media.berkeley.edu\nFrom: zqian@umich.edu\nFrom: bkirschn@umich.edu\nFrom: mbreuker@loi.nl\nFrom: zqian@umich.edu\nFrom: gsilver@umich.edu\nFrom: louis@media.berkeley.edu\nFrom: bkirschn@umich.edu\nFrom: bkirschn@umich.edu\nFrom: ajpoland@iupui.edu\nFrom: rjlowe@iupui.edu\nFrom: rjlowe@iupui.edu\nFrom: zach.thomas@txstate.edu\nFrom: ian@caret.cam.ac.uk\nFrom: ian@caret.cam.ac.uk\nFrom: ray@media.berkeley.edu\nFrom: ktsao@stanford.edu\nFrom: zqian@umich.edu\nFrom: ian@caret.cam.ac.uk\nFrom: chmaurer@iupui.edu\nFrom: ian@caret.cam.ac.uk\nFrom: gjthomas@iupui.edu\nFrom: gjthomas@iupui.edu\nFrom: aaronz@vt.edu\nFrom: ian@caret.cam.ac.uk\nFrom: aaronz@vt.edu\nFrom: aaronz@vt.edu\nFrom: zqian@umich.edu\nFrom: aaronz@vt.edu\nFrom: aaronz@vt.edu\nFrom: mbreuker@loi.nl\nFrom: ian@caret.cam.ac.uk\nFrom: zqian@umich.edu\nFrom: zqian@umich.edu\nFrom: ian@caret.cam.ac.uk\nFrom: ian@caret.cam.ac.uk\nFrom: ian@caret.cam.ac.uk\nFrom: ian@caret.cam.ac.uk\nFrom: dlhaines@umich.edu\nFrom: ian@caret.cam.ac.uk\nFrom: ian@caret.cam.ac.uk\nFrom: ian@caret.cam.ac.uk\nFrom: zqian@umich.edu\nFrom: ian@caret.cam.ac.uk\nFrom: aaronz@vt.edu\nFrom: zqian@umich.edu\nFrom: zqian@umich.edu\nFrom: zqian@umich.edu\nFrom: chmaurer@iupui.edu\nFrom: chmaurer@iupui.edu\nFrom: zqian@umich.edu\nFrom: gjthomas@iupui.edu\nFrom: gsilver@umich.edu\nFrom: ian@caret.cam.ac.uk\nFrom: ajpoland@iupui.edu\nFrom: aaronz@vt.edu\nFrom: aaronz@vt.edu\nFrom: aaronz@vt.edu\nFrom: zach.thomas@txstate.edu\nFrom: ajpoland@iupui.edu\nFrom: zqian@umich.edu\nFrom: zqian@umich.edu\nFrom: zqian@umich.edu\nFrom: gjthomas@iupui.edu\nFrom: rjlowe@iupui.edu\nFrom: rjlowe@iupui.edu\nFrom: dlhaines@umich.edu\nFrom: rjlowe@iupui.edu\nFrom: rjlowe@iupui.edu\nFrom: aaronz@vt.edu\nFrom: aaronz@vt.edu\nFrom: cwen@iupui.edu\nFrom: ktsao@stanford.edu\nFrom: aaronz@vt.edu\nFrom: aaronz@vt.edu\nFrom: gsilver@umich.edu\nFrom: gsilver@umich.edu\nFrom: zqian@umich.edu\nFrom: jzaremba@unicon.net\nFrom: aaronz@vt.edu\nFrom: aaronz@vt.edu\nFrom: dlhaines@umich.edu\nFrom: dlhaines@umich.edu\nFrom: dlhaines@umich.edu\nFrom: ajpoland@iupui.edu\nFrom: rjlowe@iupui.edu\nFrom: rjlowe@iupui.edu\nFrom: rjlowe@iupui.edu\nFrom: dlhaines@umich.edu\nFrom: aaronz@vt.edu\nFrom: aaronz@vt.edu\nFrom: aaronz@vt.edu\nFrom: aaronz@vt.edu\nFrom: aaronz@vt.edu\nFrom: aaronz@vt.edu\nFrom: ian@caret.cam.ac.uk\nFrom: aaronz@vt.edu\nFrom: aaronz@vt.edu\nFrom: ktsao@stanford.edu\nFrom: ian@caret.cam.ac.uk\nFrom: zqian@umich.edu\nFrom: zqian@umich.edu\nFrom: zqian@umich.edu\nFrom: zqian@umich.edu\nFrom: zqian@umich.edu\nFrom: aaronz@vt.edu\nFrom: aaronz@vt.edu\nFrom: jzaremba@unicon.net\nFrom: dlhaines@umich.edu\nFrom: chmaurer@iupui.edu\nFrom: zach.thomas@txstate.edu\nFrom: dlhaines@umich.edu\n"
    }
   ],
   "source": [
    "file = open('mbox.txt')\n",
    "count = 0\n",
    "for line in file:\n",
    "    if line.startswith('From:'):\n",
    "        print(line)"
   ]
  },
  {
   "cell_type": "code",
   "execution_count": 21,
   "metadata": {
    "tags": [
     "outputPrepend"
    ]
   },
   "outputs": [
    {
     "output_type": "stream",
     "name": "stdout",
     "text": "@vt.edu\nFrom: rjlowe@iupui.edu\nFrom: rjlowe@iupui.edu\nFrom: rjlowe@iupui.edu\nFrom: ian@caret.cam.ac.uk\nFrom: gopal.ramasammycook@gmail.com\nFrom: ian@caret.cam.ac.uk\nFrom: david.horwitz@uct.ac.za\nFrom: gopal.ramasammycook@gmail.com\nFrom: antranig@caret.cam.ac.uk\nFrom: arwhyte@umich.edu\nFrom: arwhyte@umich.edu\nFrom: arwhyte@umich.edu\nFrom: ian@caret.cam.ac.uk\nFrom: ian@caret.cam.ac.uk\nFrom: ray@media.berkeley.edu\nFrom: ktsao@stanford.edu\nFrom: sgithens@caret.cam.ac.uk\nFrom: zqian@umich.edu\nFrom: cwen@iupui.edu\nFrom: antranig@caret.cam.ac.uk\nFrom: zqian@umich.edu\nFrom: jimeng@umich.edu\nFrom: jimeng@umich.edu\nFrom: antranig@caret.cam.ac.uk\nFrom: antranig@caret.cam.ac.uk\nFrom: ssmail@indiana.edu\nFrom: ian@caret.cam.ac.uk\nFrom: ian@caret.cam.ac.uk\nFrom: zqian@umich.edu\nFrom: ian@caret.cam.ac.uk\nFrom: aaronz@vt.edu\nFrom: zqian@umich.edu\nFrom: ian@caret.cam.ac.uk\nFrom: aaronz@vt.edu\nFrom: mmmay@indiana.edu\nFrom: gopal.ramasammycook@gmail.com\nFrom: aaronz@vt.edu\nFrom: mmmay@indiana.edu\nFrom: mmmay@indiana.edu\nFrom: mmmay@indiana.edu\nFrom: ian@caret.cam.ac.uk\nFrom: mmmay@indiana.edu\nFrom: jimeng@umich.edu\nFrom: mmmay@indiana.edu\nFrom: mmmay@indiana.edu\nFrom: mmmay@indiana.edu\nFrom: mmmay@indiana.edu\nFrom: mmmay@indiana.edu\nFrom: mmmay@indiana.edu\nFrom: mmmay@indiana.edu\nFrom: mmmay@indiana.edu\nFrom: mmmay@indiana.edu\nFrom: mmmay@indiana.edu\nFrom: mmmay@indiana.edu\nFrom: lance@indiana.edu\nFrom: sgithens@caret.cam.ac.uk\nFrom: aaronz@vt.edu\nFrom: rjlowe@iupui.edu\nFrom: rjlowe@iupui.edu\nFrom: rjlowe@iupui.edu\nFrom: rjlowe@iupui.edu\nFrom: rjlowe@iupui.edu\nFrom: rjlowe@iupui.edu\nFrom: rjlowe@iupui.edu\nFrom: rjlowe@iupui.edu\nFrom: rjlowe@iupui.edu\nFrom: rjlowe@iupui.edu\nFrom: rjlowe@iupui.edu\nFrom: rjlowe@iupui.edu\nFrom: rjlowe@iupui.edu\nFrom: rjlowe@iupui.edu\nFrom: rjlowe@iupui.edu\nFrom: rjlowe@iupui.edu\nFrom: rjlowe@iupui.edu\nFrom: rjlowe@iupui.edu\nFrom: jimeng@umich.edu\nFrom: jimeng@umich.edu\nFrom: jimeng@umich.edu\nFrom: jimeng@umich.edu\nFrom: jimeng@umich.edu\nFrom: jimeng@umich.edu\nFrom: jimeng@umich.edu\nFrom: jimeng@umich.edu\nFrom: jimeng@umich.edu\nFrom: jimeng@umich.edu\nFrom: john.ellis@rsmart.com\nFrom: mmmay@indiana.edu\nFrom: mmmay@indiana.edu\nFrom: mmmay@indiana.edu\nFrom: mmmay@indiana.edu\nFrom: ktsao@stanford.edu\nFrom: jimeng@umich.edu\nFrom: jimeng@umich.edu\nFrom: jimeng@umich.edu\nFrom: cwen@iupui.edu\nFrom: mmmay@indiana.edu\nFrom: zqian@umich.edu\nFrom: mmmay@indiana.edu\nFrom: mmmay@indiana.edu\nFrom: mmmay@indiana.edu\nFrom: mmmay@indiana.edu\nFrom: mmmay@indiana.edu\nFrom: mmmay@indiana.edu\nFrom: mmmay@indiana.edu\nFrom: mmmay@indiana.edu\nFrom: mmmay@indiana.edu\nFrom: thoppaymallika@fhda.edu\nFrom: chmaurer@iupui.edu\nFrom: mmmay@indiana.edu\nFrom: mmmay@indiana.edu\nFrom: mmmay@indiana.edu\nFrom: mmmay@indiana.edu\nFrom: mmmay@indiana.edu\nFrom: mmmay@indiana.edu\nFrom: mmmay@indiana.edu\nFrom: mmmay@indiana.edu\nFrom: chmaurer@iupui.edu\nFrom: sgithens@caret.cam.ac.uk\nFrom: chmaurer@iupui.edu\nFrom: gsilver@umich.edu\nFrom: zqian@umich.edu\nFrom: chmaurer@iupui.edu\nFrom: chmaurer@iupui.edu\nFrom: chmaurer@iupui.edu\nFrom: aaronz@vt.edu\nFrom: aaronz@vt.edu\nFrom: sgithens@caret.cam.ac.uk\nFrom: david.horwitz@uct.ac.za\nFrom: zqian@umich.edu\nFrom: sgithens@caret.cam.ac.uk\nFrom: ajpoland@iupui.edu\nFrom: cwen@iupui.edu\nFrom: gsilver@umich.edu\nFrom: sgithens@caret.cam.ac.uk\nFrom: jimeng@umich.edu\nFrom: zqian@umich.edu\nFrom: sgithens@caret.cam.ac.uk\nFrom: sgithens@caret.cam.ac.uk\nFrom: aaronz@vt.edu\nFrom: aaronz@vt.edu\nFrom: ian@caret.cam.ac.uk\nFrom: ian@caret.cam.ac.uk\nFrom: bkirschn@umich.edu\nFrom: antranig@caret.cam.ac.uk\nFrom: antranig@caret.cam.ac.uk\nFrom: zqian@umich.edu\nFrom: jimeng@umich.edu\nFrom: jimeng@umich.edu\nFrom: jimeng@umich.edu\nFrom: gopal.ramasammycook@gmail.com\nFrom: zqian@umich.edu\nFrom: jimeng@umich.edu\nFrom: jimeng@umich.edu\nFrom: jimeng@umich.edu\nFrom: jimeng@umich.edu\nFrom: jimeng@umich.edu\nFrom: jimeng@umich.edu\nFrom: jimeng@umich.edu\nFrom: jimeng@umich.edu\nFrom: john.ellis@rsmart.com\nFrom: ajpoland@iupui.edu\nFrom: chmaurer@iupui.edu\nFrom: antranig@caret.cam.ac.uk\nFrom: antranig@caret.cam.ac.uk\nFrom: rjlowe@iupui.edu\nFrom: rjlowe@iupui.edu\nFrom: rjlowe@iupui.edu\nFrom: rjlowe@iupui.edu\nFrom: rjlowe@iupui.edu\nFrom: rjlowe@iupui.edu\nFrom: rjlowe@iupui.edu\nFrom: rjlowe@iupui.edu\nFrom: rjlowe@iupui.edu\nFrom: rjlowe@iupui.edu\nFrom: rjlowe@iupui.edu\nFrom: rjlowe@iupui.edu\nFrom: zqian@umich.edu\nFrom: antranig@caret.cam.ac.uk\nFrom: zqian@umich.edu\nFrom: rjlowe@iupui.edu\nFrom: zqian@umich.edu\nFrom: zqian@umich.edu\nFrom: rjlowe@iupui.edu\nFrom: gopal.ramasammycook@gmail.com\nFrom: zqian@umich.edu\nFrom: kimsooil@bu.edu\nFrom: kimsooil@bu.edu\nFrom: kimsooil@bu.edu\nFrom: zqian@umich.edu\nFrom: ostermmg@whitman.edu\nFrom: jimeng@umich.edu\nFrom: jimeng@umich.edu\nFrom: jimeng@umich.edu\nFrom: jimeng@umich.edu\nFrom: jimeng@umich.edu\nFrom: jimeng@umich.edu\nFrom: zqian@umich.edu\nFrom: jimeng@umich.edu\nFrom: jimeng@umich.edu\nFrom: jimeng@umich.edu\nFrom: jimeng@umich.edu\nFrom: ray@media.berkeley.edu\nFrom: ostermmg@whitman.edu\nFrom: josrodri@iupui.edu\nFrom: ostermmg@whitman.edu\nFrom: ostermmg@whitman.edu\nFrom: ostermmg@whitman.edu\nFrom: rjlowe@iupui.edu\nFrom: antranig@caret.cam.ac.uk\nFrom: antranig@caret.cam.ac.uk\nFrom: josrodri@iupui.edu\nFrom: zqian@umich.edu\nFrom: rjlowe@iupui.edu\nFrom: ian@caret.cam.ac.uk\nFrom: antranig@caret.cam.ac.uk\nFrom: zqian@umich.edu\nFrom: wagnermr@iupui.edu\nFrom: gsilver@umich.edu\nFrom: gopal.ramasammycook@gmail.com\nFrom: ajpoland@iupui.edu\nFrom: wagnermr@iupui.edu\nFrom: wagnermr@iupui.edu\nFrom: aaronz@vt.edu\nFrom: aaronz@vt.edu\nFrom: ajpoland@iupui.edu\nFrom: wagnermr@iupui.edu\nFrom: wagnermr@iupui.edu\nFrom: david.horwitz@uct.ac.za\nFrom: ray@media.berkeley.edu\nFrom: ostermmg@whitman.edu\nFrom: ostermmg@whitman.edu\nFrom: ostermmg@whitman.edu\nFrom: ostermmg@whitman.edu\nFrom: ostermmg@whitman.edu\nFrom: ajpoland@iupui.edu\nFrom: ostermmg@whitman.edu\nFrom: cwen@iupui.edu\nFrom: jimeng@umich.edu\nFrom: josrodri@iupui.edu\nFrom: zqian@umich.edu\nFrom: zqian@umich.edu\nFrom: zqian@umich.edu\nFrom: aaronz@vt.edu\nFrom: aaronz@vt.edu\nFrom: wagnermr@iupui.edu\nFrom: hu2@iupui.edu\nFrom: josrodri@iupui.edu\nFrom: wagnermr@iupui.edu\nFrom: rjlowe@iupui.edu\nFrom: zqian@umich.edu\nFrom: zqian@umich.edu\nFrom: gopal.ramasammycook@gmail.com\nFrom: david.horwitz@uct.ac.za\nFrom: david.horwitz@uct.ac.za\nFrom: david.horwitz@uct.ac.za\nFrom: david.horwitz@uct.ac.za\nFrom: ian@caret.cam.ac.uk\nFrom: ajpoland@iupui.edu\nFrom: aaronz@vt.edu\nFrom: aaronz@vt.edu\nFrom: aaronz@vt.edu\nFrom: jimeng@umich.edu\nFrom: aaronz@vt.edu\nFrom: aaronz@vt.edu\nFrom: aaronz@vt.edu\nFrom: rjlowe@iupui.edu\nFrom: jimeng@umich.edu\nFrom: sgithens@caret.cam.ac.uk\nFrom: sgithens@caret.cam.ac.uk\nFrom: aaronz@vt.edu\nFrom: aaronz@vt.edu\nFrom: aaronz@vt.edu\nFrom: aaronz@vt.edu\nFrom: aaronz@vt.edu\nFrom: aaronz@vt.edu\nFrom: aaronz@vt.edu\nFrom: rjlowe@iupui.edu\nFrom: rjlowe@iupui.edu\nFrom: rjlowe@iupui.edu\nFrom: ray@media.berkeley.edu\nFrom: ajpoland@iupui.edu\nFrom: rjlowe@iupui.edu\nFrom: ajpoland@iupui.edu\nFrom: rjlowe@iupui.edu\nFrom: rjlowe@iupui.edu\nFrom: rjlowe@iupui.edu\nFrom: cwen@iupui.edu\nFrom: bkirschn@umich.edu\nFrom: gsilver@umich.edu\nFrom: john.ellis@rsmart.com\nFrom: aaronz@vt.edu\nFrom: bkirschn@umich.edu\nFrom: gopal.ramasammycook@gmail.com\nFrom: chmaurer@iupui.edu\nFrom: chmaurer@iupui.edu\nFrom: chmaurer@iupui.edu\nFrom: dlhaines@umich.edu\nFrom: dlhaines@umich.edu\nFrom: ajpoland@iupui.edu\nFrom: aaronz@vt.edu\nFrom: sgithens@caret.cam.ac.uk\nFrom: aaronz@vt.edu\nFrom: jimeng@umich.edu\nFrom: ostermmg@whitman.edu\nFrom: ostermmg@whitman.edu\nFrom: jimeng@umich.edu\nFrom: aaronz@vt.edu\nFrom: aaronz@vt.edu\nFrom: dlhaines@umich.edu\nFrom: dlhaines@umich.edu\nFrom: dlhaines@umich.edu\nFrom: dlhaines@umich.edu\nFrom: dlhaines@umich.edu\nFrom: sgithens@caret.cam.ac.uk\nFrom: dlhaines@umich.edu\nFrom: dlhaines@umich.edu\nFrom: gopal.ramasammycook@gmail.com\nFrom: zqian@umich.edu\nFrom: chmaurer@iupui.edu\nFrom: chmaurer@iupui.edu\nFrom: dlhaines@umich.edu\nFrom: wagnermr@iupui.edu\nFrom: aaronz@vt.edu\nFrom: chmaurer@iupui.edu\nFrom: chmaurer@iupui.edu\nFrom: wagnermr@iupui.edu\nFrom: ian@caret.cam.ac.uk\nFrom: aaronz@vt.edu\nFrom: aaronz@vt.edu\nFrom: ian@caret.cam.ac.uk\nFrom: aaronz@vt.edu\nFrom: aaronz@vt.edu\nFrom: aaronz@vt.edu\nFrom: zqian@umich.edu\nFrom: aaronz@vt.edu\nFrom: aaronz@vt.edu\nFrom: aaronz@vt.edu\nFrom: kimsooil@bu.edu\nFrom: kimsooil@bu.edu\nFrom: aaronz@vt.edu\nFrom: nuno@ufp.pt\nFrom: arwhyte@umich.edu\nFrom: dlhaines@umich.edu\nFrom: dlhaines@umich.edu\nFrom: ajpoland@iupui.edu\nFrom: mmmay@indiana.edu\nFrom: zqian@umich.edu\nFrom: mmmay@indiana.edu\nFrom: ajpoland@iupui.edu\nFrom: rjlowe@iupui.edu\nFrom: rjlowe@iupui.edu\nFrom: aaronz@vt.edu\nFrom: aaronz@vt.edu\nFrom: aaronz@vt.edu\nFrom: ajpoland@iupui.edu\nFrom: wagnermr@iupui.edu\nFrom: aaronz@vt.edu\nFrom: aaronz@vt.edu\nFrom: aaronz@vt.edu\nFrom: aaronz@vt.edu\nFrom: aaronz@vt.edu\nFrom: aaronz@vt.edu\nFrom: aaronz@vt.edu\nFrom: aaronz@vt.edu\nFrom: aaronz@vt.edu\nFrom: sgithens@caret.cam.ac.uk\nFrom: ian@caret.cam.ac.uk\nFrom: mmmay@indiana.edu\nFrom: mmmay@indiana.edu\nFrom: mmmay@indiana.edu\nFrom: josrodri@iupui.edu\nFrom: josrodri@iupui.edu\nFrom: mmmay@indiana.edu\nFrom: mmmay@indiana.edu\nFrom: mmmay@indiana.edu\nFrom: mmmay@indiana.edu\nFrom: dlhaines@umich.edu\nFrom: dlhaines@umich.edu\nFrom: josrodri@iupui.edu\nFrom: zqian@umich.edu\nFrom: arwhyte@umich.edu\nFrom: rjlowe@iupui.edu\nFrom: dlhaines@umich.edu\nFrom: arwhyte@umich.edu\nFrom: arwhyte@umich.edu\nFrom: arwhyte@umich.edu\nFrom: arwhyte@umich.edu\nFrom: dlhaines@umich.edu\nFrom: dlhaines@umich.edu\nFrom: arwhyte@umich.edu\nFrom: arwhyte@umich.edu\nFrom: arwhyte@umich.edu\nFrom: arwhyte@umich.edu\nFrom: arwhyte@umich.edu\nFrom: wagnermr@iupui.edu\nFrom: zqian@umich.edu\nFrom: zqian@umich.edu\nFrom: mmmay@indiana.edu\nFrom: josrodri@iupui.edu\nFrom: gjthomas@iupui.edu\nFrom: mmmay@indiana.edu\nFrom: mmmay@indiana.edu\nFrom: mmmay@indiana.edu\nFrom: mmmay@indiana.edu\nFrom: mmmay@indiana.edu\nFrom: mmmay@indiana.edu\nFrom: mmmay@indiana.edu\nFrom: mmmay@indiana.edu\nFrom: sgithens@caret.cam.ac.uk\nFrom: mmmay@indiana.edu\nFrom: mmmay@indiana.edu\nFrom: mmmay@indiana.edu\nFrom: ray@media.berkeley.edu\nFrom: mmmay@indiana.edu\nFrom: mmmay@indiana.edu\nFrom: david.horwitz@uct.ac.za\nFrom: antranig@caret.cam.ac.uk\nFrom: ggolden@umich.edu\nFrom: antranig@caret.cam.ac.uk\nFrom: ggolden@umich.edu\nFrom: mmmay@indiana.edu\nFrom: mmmay@indiana.edu\nFrom: david.horwitz@uct.ac.za\nFrom: mmmay@indiana.edu\nFrom: mmmay@indiana.edu\nFrom: mmmay@indiana.edu\nFrom: mmmay@indiana.edu\nFrom: mmmay@indiana.edu\nFrom: mmmay@indiana.edu\nFrom: mmmay@indiana.edu\nFrom: mmmay@indiana.edu\nFrom: mmmay@indiana.edu\nFrom: wagnermr@iupui.edu\nFrom: rjlowe@iupui.edu\nFrom: gopal.ramasammycook@gmail.com\nFrom: david.horwitz@uct.ac.za\nFrom: zqian@umich.edu\nFrom: zqian@umich.edu\nFrom: ian@caret.cam.ac.uk\nFrom: ray@media.berkeley.edu\nFrom: hu2@iupui.edu\nFrom: mmmay@indiana.edu\nFrom: bkirschn@umich.edu\nFrom: mmmay@indiana.edu\nFrom: mmmay@indiana.edu\nFrom: mmmay@indiana.edu\nFrom: mmmay@indiana.edu\nFrom: mmmay@indiana.edu\nFrom: zqian@umich.edu\nFrom: zqian@umich.edu\nFrom: zqian@umich.edu\nFrom: ray@media.berkeley.edu\nFrom: ray@media.berkeley.edu\nFrom: zqian@umich.edu\nFrom: zqian@umich.edu\nFrom: csev@umich.edu\nFrom: josrodri@iupui.edu\nFrom: csev@umich.edu\nFrom: zqian@umich.edu\nFrom: bahollad@indiana.edu\nFrom: aaronz@vt.edu\nFrom: jzaremba@unicon.net\nFrom: ajpoland@iupui.edu\nFrom: aaronz@vt.edu\nFrom: csev@umich.edu\nFrom: rjlowe@iupui.edu\nFrom: nuno@ufp.pt\nFrom: nuno@ufp.pt\nFrom: mmmay@indiana.edu\nFrom: bkirschn@umich.edu\nFrom: jimeng@umich.edu\nFrom: bkirschn@umich.edu\nFrom: bkirschn@umich.edu\nFrom: zqian@umich.edu\nFrom: zqian@umich.edu\nFrom: aaronz@vt.edu\nFrom: john.ellis@rsmart.com\nFrom: zqian@umich.edu\nFrom: jzaremba@unicon.net\nFrom: jimeng@umich.edu\nFrom: bkirschn@umich.edu\nFrom: bkirschn@umich.edu\nFrom: bkirschn@umich.edu\nFrom: bkirschn@umich.edu\nFrom: zqian@umich.edu\nFrom: ktsao@stanford.edu\nFrom: mmmay@indiana.edu\nFrom: dlhaines@umich.edu\nFrom: zqian@umich.edu\nFrom: dlhaines@umich.edu\nFrom: bkirschn@umich.edu\nFrom: zqian@umich.edu\nFrom: bkirschn@umich.edu\nFrom: ray@media.berkeley.edu\nFrom: ian@caret.cam.ac.uk\nFrom: ian@caret.cam.ac.uk\nFrom: zach.thomas@txstate.edu\nFrom: ostermmg@whitman.edu\nFrom: bkirschn@umich.edu\nFrom: mmmay@indiana.edu\nFrom: mmmay@indiana.edu\nFrom: mmmay@indiana.edu\nFrom: wagnermr@iupui.edu\nFrom: mmmay@indiana.edu\nFrom: mmmay@indiana.edu\nFrom: mmmay@indiana.edu\nFrom: zach.thomas@txstate.edu\nFrom: wagnermr@iupui.edu\nFrom: gsilver@umich.edu\nFrom: gjthomas@iupui.edu\nFrom: gjthomas@iupui.edu\nFrom: hu2@iupui.edu\nFrom: ajpoland@iupui.edu\nFrom: wagnermr@iupui.edu\nFrom: david.horwitz@uct.ac.za\nFrom: zqian@umich.edu\nFrom: jzaremba@unicon.net\nFrom: cwen@iupui.edu\nFrom: ktsao@stanford.edu\nFrom: bahollad@indiana.edu\nFrom: zach.thomas@txstate.edu\nFrom: cwen@iupui.edu\nFrom: ajpoland@iupui.edu\nFrom: wagnermr@iupui.edu\nFrom: wagnermr@iupui.edu\nFrom: aaronz@vt.edu\nFrom: sgithens@caret.cam.ac.uk\nFrom: a.fish@lancaster.ac.uk\nFrom: aaronz@vt.edu\nFrom: david.horwitz@uct.ac.za\nFrom: david.horwitz@uct.ac.za\nFrom: zqian@umich.edu\nFrom: jzaremba@unicon.net\nFrom: zach.thomas@txstate.edu\nFrom: jzaremba@unicon.net\nFrom: dlhaines@umich.edu\nFrom: dlhaines@umich.edu\nFrom: dlhaines@umich.edu\nFrom: dlhaines@umich.edu\nFrom: dlhaines@umich.edu\nFrom: dlhaines@umich.edu\nFrom: dlhaines@umich.edu\nFrom: zqian@umich.edu\nFrom: chmaurer@iupui.edu\nFrom: john.ellis@rsmart.com\nFrom: ajpoland@iupui.edu\nFrom: rjlowe@iupui.edu\nFrom: chmaurer@iupui.edu\nFrom: ajpoland@iupui.edu\nFrom: rjlowe@iupui.edu\nFrom: kimsooil@bu.edu\nFrom: dlhaines@umich.edu\nFrom: dlhaines@umich.edu\nFrom: dlhaines@umich.edu\nFrom: zqian@umich.edu\nFrom: kimsooil@bu.edu\nFrom: nuno@ufp.pt\nFrom: kimsooil@bu.edu\nFrom: ajpoland@iupui.edu\nFrom: chmaurer@iupui.edu\nFrom: ajpoland@iupui.edu\nFrom: ajpoland@iupui.edu\nFrom: ajpoland@iupui.edu\nFrom: ajpoland@iupui.edu\nFrom: ajpoland@iupui.edu\nFrom: ajpoland@iupui.edu\nFrom: ajpoland@iupui.edu\nFrom: ajpoland@iupui.edu\nFrom: ajpoland@iupui.edu\nFrom: ajpoland@iupui.edu\nFrom: ajpoland@iupui.edu\nFrom: ajpoland@iupui.edu\nFrom: ajpoland@iupui.edu\nFrom: ajpoland@iupui.edu\nFrom: ajpoland@iupui.edu\nFrom: ajpoland@iupui.edu\nFrom: ajpoland@iupui.edu\nFrom: ajpoland@iupui.edu\nFrom: ajpoland@iupui.edu\nFrom: dlhaines@umich.edu\nFrom: rjlowe@iupui.edu\nFrom: rjlowe@iupui.edu\nFrom: wagnermr@iupui.edu\nFrom: david.horwitz@uct.ac.za\nFrom: jleasia@umich.edu\nFrom: david.horwitz@uct.ac.za\nFrom: mmmay@indiana.edu\nFrom: mmmay@indiana.edu\nFrom: mmmay@indiana.edu\nFrom: mmmay@indiana.edu\nFrom: mmmay@indiana.edu\nFrom: mmmay@indiana.edu\nFrom: mmmay@indiana.edu\nFrom: mmmay@indiana.edu\nFrom: mmmay@indiana.edu\nFrom: mmmay@indiana.edu\nFrom: mmmay@indiana.edu\nFrom: mmmay@indiana.edu\nFrom: mmmay@indiana.edu\nFrom: mmmay@indiana.edu\nFrom: mmmay@indiana.edu\nFrom: mmmay@indiana.edu\nFrom: mmmay@indiana.edu\nFrom: mmmay@indiana.edu\nFrom: mmmay@indiana.edu\nFrom: mmmay@indiana.edu\nFrom: mmmay@indiana.edu\nFrom: mmmay@indiana.edu\nFrom: mmmay@indiana.edu\nFrom: mmmay@indiana.edu\nFrom: mmmay@indiana.edu\nFrom: cwen@iupui.edu\nFrom: mmmay@indiana.edu\nFrom: mmmay@indiana.edu\nFrom: mmmay@indiana.edu\nFrom: kimsooil@bu.edu\nFrom: mmmay@indiana.edu\nFrom: zqian@umich.edu\nFrom: mmmay@indiana.edu\nFrom: mmmay@indiana.edu\nFrom: mmmay@indiana.edu\nFrom: mmmay@indiana.edu\nFrom: mmmay@indiana.edu\nFrom: mmmay@indiana.edu\nFrom: mmmay@indiana.edu\nFrom: mmmay@indiana.edu\nFrom: mmmay@indiana.edu\nFrom: mmmay@indiana.edu\nFrom: kimsooil@bu.edu\nFrom: aaronz@vt.edu\nFrom: dlhaines@umich.edu\nFrom: zqian@umich.edu\nFrom: mmmay@indiana.edu\nFrom: dlhaines@umich.edu\nFrom: cwen@iupui.edu\nFrom: kimsooil@bu.edu\nFrom: kimsooil@bu.edu\nFrom: kimsooil@bu.edu\nFrom: hu2@iupui.edu\nFrom: zqian@umich.edu\nFrom: kimsooil@bu.edu\nFrom: aaronz@vt.edu\nFrom: aaronz@vt.edu\nFrom: aaronz@vt.edu\nFrom: rjlowe@iupui.edu\nFrom: ajpoland@iupui.edu\nFrom: rjlowe@iupui.edu\nFrom: rjlowe@iupui.edu\nFrom: hu2@iupui.edu\nFrom: dlhaines@umich.edu\nFrom: a.fish@lancaster.ac.uk\nFrom: a.fish@lancaster.ac.uk\nFrom: a.fish@lancaster.ac.uk\nFrom: gsilver@umich.edu\nFrom: mbreuker@loi.nl\nFrom: mbreuker@loi.nl\nFrom: mbreuker@loi.nl\nFrom: mbreuker@loi.nl\nFrom: mbreuker@loi.nl\nFrom: mbreuker@loi.nl\nFrom: ajpoland@iupui.edu\nFrom: rjlowe@iupui.edu\nFrom: rjlowe@iupui.edu\nFrom: a.fish@lancaster.ac.uk\nFrom: a.fish@lancaster.ac.uk\nFrom: a.fish@lancaster.ac.uk\nFrom: dlhaines@umich.edu\nFrom: mbreuker@loi.nl\nFrom: david.horwitz@uct.ac.za\nFrom: zach.thomas@txstate.edu\nFrom: jimeng@umich.edu\nFrom: zqian@umich.edu\nFrom: jzaremba@unicon.net\nFrom: colin.clark@utoronto.ca\nFrom: ray@media.berkeley.edu\nFrom: ray@media.berkeley.edu\nFrom: ray@media.berkeley.edu\nFrom: ray@media.berkeley.edu\nFrom: louis@media.berkeley.edu\nFrom: dlhaines@umich.edu\nFrom: dlhaines@umich.edu\nFrom: dlhaines@umich.edu\nFrom: dlhaines@umich.edu\nFrom: ajpoland@iupui.edu\nFrom: wagnermr@iupui.edu\nFrom: zqian@umich.edu\nFrom: ktsao@stanford.edu\nFrom: ray@media.berkeley.edu\nFrom: aaronz@vt.edu\nFrom: zqian@umich.edu\nFrom: aaronz@vt.edu\nFrom: bahollad@indiana.edu\nFrom: aaronz@vt.edu\nFrom: zqian@umich.edu\nFrom: ray@media.berkeley.edu\nFrom: zqian@umich.edu\nFrom: zqian@umich.edu\nFrom: zqian@umich.edu\nFrom: bahollad@indiana.edu\nFrom: ray@media.berkeley.edu\nFrom: zqian@umich.edu\nFrom: zqian@umich.edu\nFrom: louis@media.berkeley.edu\nFrom: zqian@umich.edu\nFrom: ray@media.berkeley.edu\nFrom: jzaremba@unicon.net\nFrom: louis@media.berkeley.edu\nFrom: rjlowe@iupui.edu\nFrom: ajpoland@iupui.edu\nFrom: ray@media.berkeley.edu\nFrom: ajpoland@iupui.edu\nFrom: rjlowe@iupui.edu\nFrom: ray@media.berkeley.edu\nFrom: zqian@umich.edu\nFrom: bkirschn@umich.edu\nFrom: mbreuker@loi.nl\nFrom: zqian@umich.edu\nFrom: gsilver@umich.edu\nFrom: louis@media.berkeley.edu\nFrom: bkirschn@umich.edu\nFrom: bkirschn@umich.edu\nFrom: ajpoland@iupui.edu\nFrom: rjlowe@iupui.edu\nFrom: rjlowe@iupui.edu\nFrom: zach.thomas@txstate.edu\nFrom: ian@caret.cam.ac.uk\nFrom: ian@caret.cam.ac.uk\nFrom: ray@media.berkeley.edu\nFrom: ktsao@stanford.edu\nFrom: zqian@umich.edu\nFrom: ian@caret.cam.ac.uk\nFrom: chmaurer@iupui.edu\nFrom: ian@caret.cam.ac.uk\nFrom: gjthomas@iupui.edu\nFrom: gjthomas@iupui.edu\nFrom: aaronz@vt.edu\nFrom: ian@caret.cam.ac.uk\nFrom: aaronz@vt.edu\nFrom: aaronz@vt.edu\nFrom: zqian@umich.edu\nFrom: aaronz@vt.edu\nFrom: aaronz@vt.edu\nFrom: mbreuker@loi.nl\nFrom: ian@caret.cam.ac.uk\nFrom: zqian@umich.edu\nFrom: zqian@umich.edu\nFrom: ian@caret.cam.ac.uk\nFrom: ian@caret.cam.ac.uk\nFrom: ian@caret.cam.ac.uk\nFrom: ian@caret.cam.ac.uk\nFrom: dlhaines@umich.edu\nFrom: ian@caret.cam.ac.uk\nFrom: ian@caret.cam.ac.uk\nFrom: ian@caret.cam.ac.uk\nFrom: zqian@umich.edu\nFrom: ian@caret.cam.ac.uk\nFrom: aaronz@vt.edu\nFrom: zqian@umich.edu\nFrom: zqian@umich.edu\nFrom: zqian@umich.edu\nFrom: chmaurer@iupui.edu\nFrom: chmaurer@iupui.edu\nFrom: zqian@umich.edu\nFrom: gjthomas@iupui.edu\nFrom: gsilver@umich.edu\nFrom: ian@caret.cam.ac.uk\nFrom: ajpoland@iupui.edu\nFrom: aaronz@vt.edu\nFrom: aaronz@vt.edu\nFrom: aaronz@vt.edu\nFrom: zach.thomas@txstate.edu\nFrom: ajpoland@iupui.edu\nFrom: zqian@umich.edu\nFrom: zqian@umich.edu\nFrom: zqian@umich.edu\nFrom: gjthomas@iupui.edu\nFrom: rjlowe@iupui.edu\nFrom: rjlowe@iupui.edu\nFrom: dlhaines@umich.edu\nFrom: rjlowe@iupui.edu\nFrom: rjlowe@iupui.edu\nFrom: aaronz@vt.edu\nFrom: aaronz@vt.edu\nFrom: cwen@iupui.edu\nFrom: ktsao@stanford.edu\nFrom: aaronz@vt.edu\nFrom: aaronz@vt.edu\nFrom: gsilver@umich.edu\nFrom: gsilver@umich.edu\nFrom: zqian@umich.edu\nFrom: jzaremba@unicon.net\nFrom: aaronz@vt.edu\nFrom: aaronz@vt.edu\nFrom: dlhaines@umich.edu\nFrom: dlhaines@umich.edu\nFrom: dlhaines@umich.edu\nFrom: ajpoland@iupui.edu\nFrom: rjlowe@iupui.edu\nFrom: rjlowe@iupui.edu\nFrom: rjlowe@iupui.edu\nFrom: dlhaines@umich.edu\nFrom: aaronz@vt.edu\nFrom: aaronz@vt.edu\nFrom: aaronz@vt.edu\nFrom: aaronz@vt.edu\nFrom: aaronz@vt.edu\nFrom: aaronz@vt.edu\nFrom: ian@caret.cam.ac.uk\nFrom: aaronz@vt.edu\nFrom: aaronz@vt.edu\nFrom: ktsao@stanford.edu\nFrom: ian@caret.cam.ac.uk\nFrom: zqian@umich.edu\nFrom: zqian@umich.edu\nFrom: zqian@umich.edu\nFrom: zqian@umich.edu\nFrom: zqian@umich.edu\nFrom: aaronz@vt.edu\nFrom: aaronz@vt.edu\nFrom: jzaremba@unicon.net\nFrom: dlhaines@umich.edu\nFrom: chmaurer@iupui.edu\nFrom: zach.thomas@txstate.edu\nFrom: dlhaines@umich.edu\n"
    }
   ],
   "source": [
    "file = open('mbox.txt')\n",
    "count = 0\n",
    "for line in file:\n",
    "    line = line.rstrip()\n",
    "    if line.startswith('From:'):\n",
    "        print(line)"
   ]
  },
  {
   "cell_type": "code",
   "execution_count": 25,
   "metadata": {
    "tags": [
     "outputPrepend"
    ]
   },
   "outputs": [
    {
     "output_type": "stream",
     "name": "stdout",
     "text": "@vt.edu\nFrom: rjlowe@iupui.edu\nFrom: rjlowe@iupui.edu\nFrom: rjlowe@iupui.edu\nFrom: ian@caret.cam.ac.uk\nFrom: gopal.ramasammycook@gmail.com\nFrom: ian@caret.cam.ac.uk\nFrom: david.horwitz@uct.ac.za\nFrom: gopal.ramasammycook@gmail.com\nFrom: antranig@caret.cam.ac.uk\nFrom: arwhyte@umich.edu\nFrom: arwhyte@umich.edu\nFrom: arwhyte@umich.edu\nFrom: ian@caret.cam.ac.uk\nFrom: ian@caret.cam.ac.uk\nFrom: ray@media.berkeley.edu\nFrom: ktsao@stanford.edu\nFrom: sgithens@caret.cam.ac.uk\nFrom: zqian@umich.edu\nFrom: cwen@iupui.edu\nFrom: antranig@caret.cam.ac.uk\nFrom: zqian@umich.edu\nFrom: jimeng@umich.edu\nFrom: jimeng@umich.edu\nFrom: antranig@caret.cam.ac.uk\nFrom: antranig@caret.cam.ac.uk\nFrom: ssmail@indiana.edu\nFrom: ian@caret.cam.ac.uk\nFrom: ian@caret.cam.ac.uk\nFrom: zqian@umich.edu\nFrom: ian@caret.cam.ac.uk\nFrom: aaronz@vt.edu\nFrom: zqian@umich.edu\nFrom: ian@caret.cam.ac.uk\nFrom: aaronz@vt.edu\nFrom: mmmay@indiana.edu\nFrom: gopal.ramasammycook@gmail.com\nFrom: aaronz@vt.edu\nFrom: mmmay@indiana.edu\nFrom: mmmay@indiana.edu\nFrom: mmmay@indiana.edu\nFrom: ian@caret.cam.ac.uk\nFrom: mmmay@indiana.edu\nFrom: jimeng@umich.edu\nFrom: mmmay@indiana.edu\nFrom: mmmay@indiana.edu\nFrom: mmmay@indiana.edu\nFrom: mmmay@indiana.edu\nFrom: mmmay@indiana.edu\nFrom: mmmay@indiana.edu\nFrom: mmmay@indiana.edu\nFrom: mmmay@indiana.edu\nFrom: mmmay@indiana.edu\nFrom: mmmay@indiana.edu\nFrom: mmmay@indiana.edu\nFrom: lance@indiana.edu\nFrom: sgithens@caret.cam.ac.uk\nFrom: aaronz@vt.edu\nFrom: rjlowe@iupui.edu\nFrom: rjlowe@iupui.edu\nFrom: rjlowe@iupui.edu\nFrom: rjlowe@iupui.edu\nFrom: rjlowe@iupui.edu\nFrom: rjlowe@iupui.edu\nFrom: rjlowe@iupui.edu\nFrom: rjlowe@iupui.edu\nFrom: rjlowe@iupui.edu\nFrom: rjlowe@iupui.edu\nFrom: rjlowe@iupui.edu\nFrom: rjlowe@iupui.edu\nFrom: rjlowe@iupui.edu\nFrom: rjlowe@iupui.edu\nFrom: rjlowe@iupui.edu\nFrom: rjlowe@iupui.edu\nFrom: rjlowe@iupui.edu\nFrom: rjlowe@iupui.edu\nFrom: jimeng@umich.edu\nFrom: jimeng@umich.edu\nFrom: jimeng@umich.edu\nFrom: jimeng@umich.edu\nFrom: jimeng@umich.edu\nFrom: jimeng@umich.edu\nFrom: jimeng@umich.edu\nFrom: jimeng@umich.edu\nFrom: jimeng@umich.edu\nFrom: jimeng@umich.edu\nFrom: john.ellis@rsmart.com\nFrom: mmmay@indiana.edu\nFrom: mmmay@indiana.edu\nFrom: mmmay@indiana.edu\nFrom: mmmay@indiana.edu\nFrom: ktsao@stanford.edu\nFrom: jimeng@umich.edu\nFrom: jimeng@umich.edu\nFrom: jimeng@umich.edu\nFrom: cwen@iupui.edu\nFrom: mmmay@indiana.edu\nFrom: zqian@umich.edu\nFrom: mmmay@indiana.edu\nFrom: mmmay@indiana.edu\nFrom: mmmay@indiana.edu\nFrom: mmmay@indiana.edu\nFrom: mmmay@indiana.edu\nFrom: mmmay@indiana.edu\nFrom: mmmay@indiana.edu\nFrom: mmmay@indiana.edu\nFrom: mmmay@indiana.edu\nFrom: thoppaymallika@fhda.edu\nFrom: chmaurer@iupui.edu\nFrom: mmmay@indiana.edu\nFrom: mmmay@indiana.edu\nFrom: mmmay@indiana.edu\nFrom: mmmay@indiana.edu\nFrom: mmmay@indiana.edu\nFrom: mmmay@indiana.edu\nFrom: mmmay@indiana.edu\nFrom: mmmay@indiana.edu\nFrom: chmaurer@iupui.edu\nFrom: sgithens@caret.cam.ac.uk\nFrom: chmaurer@iupui.edu\nFrom: gsilver@umich.edu\nFrom: zqian@umich.edu\nFrom: chmaurer@iupui.edu\nFrom: chmaurer@iupui.edu\nFrom: chmaurer@iupui.edu\nFrom: aaronz@vt.edu\nFrom: aaronz@vt.edu\nFrom: sgithens@caret.cam.ac.uk\nFrom: david.horwitz@uct.ac.za\nFrom: zqian@umich.edu\nFrom: sgithens@caret.cam.ac.uk\nFrom: ajpoland@iupui.edu\nFrom: cwen@iupui.edu\nFrom: gsilver@umich.edu\nFrom: sgithens@caret.cam.ac.uk\nFrom: jimeng@umich.edu\nFrom: zqian@umich.edu\nFrom: sgithens@caret.cam.ac.uk\nFrom: sgithens@caret.cam.ac.uk\nFrom: aaronz@vt.edu\nFrom: aaronz@vt.edu\nFrom: ian@caret.cam.ac.uk\nFrom: ian@caret.cam.ac.uk\nFrom: bkirschn@umich.edu\nFrom: antranig@caret.cam.ac.uk\nFrom: antranig@caret.cam.ac.uk\nFrom: zqian@umich.edu\nFrom: jimeng@umich.edu\nFrom: jimeng@umich.edu\nFrom: jimeng@umich.edu\nFrom: gopal.ramasammycook@gmail.com\nFrom: zqian@umich.edu\nFrom: jimeng@umich.edu\nFrom: jimeng@umich.edu\nFrom: jimeng@umich.edu\nFrom: jimeng@umich.edu\nFrom: jimeng@umich.edu\nFrom: jimeng@umich.edu\nFrom: jimeng@umich.edu\nFrom: jimeng@umich.edu\nFrom: john.ellis@rsmart.com\nFrom: ajpoland@iupui.edu\nFrom: chmaurer@iupui.edu\nFrom: antranig@caret.cam.ac.uk\nFrom: antranig@caret.cam.ac.uk\nFrom: rjlowe@iupui.edu\nFrom: rjlowe@iupui.edu\nFrom: rjlowe@iupui.edu\nFrom: rjlowe@iupui.edu\nFrom: rjlowe@iupui.edu\nFrom: rjlowe@iupui.edu\nFrom: rjlowe@iupui.edu\nFrom: rjlowe@iupui.edu\nFrom: rjlowe@iupui.edu\nFrom: rjlowe@iupui.edu\nFrom: rjlowe@iupui.edu\nFrom: rjlowe@iupui.edu\nFrom: zqian@umich.edu\nFrom: antranig@caret.cam.ac.uk\nFrom: zqian@umich.edu\nFrom: rjlowe@iupui.edu\nFrom: zqian@umich.edu\nFrom: zqian@umich.edu\nFrom: rjlowe@iupui.edu\nFrom: gopal.ramasammycook@gmail.com\nFrom: zqian@umich.edu\nFrom: kimsooil@bu.edu\nFrom: kimsooil@bu.edu\nFrom: kimsooil@bu.edu\nFrom: zqian@umich.edu\nFrom: ostermmg@whitman.edu\nFrom: jimeng@umich.edu\nFrom: jimeng@umich.edu\nFrom: jimeng@umich.edu\nFrom: jimeng@umich.edu\nFrom: jimeng@umich.edu\nFrom: jimeng@umich.edu\nFrom: zqian@umich.edu\nFrom: jimeng@umich.edu\nFrom: jimeng@umich.edu\nFrom: jimeng@umich.edu\nFrom: jimeng@umich.edu\nFrom: ray@media.berkeley.edu\nFrom: ostermmg@whitman.edu\nFrom: josrodri@iupui.edu\nFrom: ostermmg@whitman.edu\nFrom: ostermmg@whitman.edu\nFrom: ostermmg@whitman.edu\nFrom: rjlowe@iupui.edu\nFrom: antranig@caret.cam.ac.uk\nFrom: antranig@caret.cam.ac.uk\nFrom: josrodri@iupui.edu\nFrom: zqian@umich.edu\nFrom: rjlowe@iupui.edu\nFrom: ian@caret.cam.ac.uk\nFrom: antranig@caret.cam.ac.uk\nFrom: zqian@umich.edu\nFrom: wagnermr@iupui.edu\nFrom: gsilver@umich.edu\nFrom: gopal.ramasammycook@gmail.com\nFrom: ajpoland@iupui.edu\nFrom: wagnermr@iupui.edu\nFrom: wagnermr@iupui.edu\nFrom: aaronz@vt.edu\nFrom: aaronz@vt.edu\nFrom: ajpoland@iupui.edu\nFrom: wagnermr@iupui.edu\nFrom: wagnermr@iupui.edu\nFrom: david.horwitz@uct.ac.za\nFrom: ray@media.berkeley.edu\nFrom: ostermmg@whitman.edu\nFrom: ostermmg@whitman.edu\nFrom: ostermmg@whitman.edu\nFrom: ostermmg@whitman.edu\nFrom: ostermmg@whitman.edu\nFrom: ajpoland@iupui.edu\nFrom: ostermmg@whitman.edu\nFrom: cwen@iupui.edu\nFrom: jimeng@umich.edu\nFrom: josrodri@iupui.edu\nFrom: zqian@umich.edu\nFrom: zqian@umich.edu\nFrom: zqian@umich.edu\nFrom: aaronz@vt.edu\nFrom: aaronz@vt.edu\nFrom: wagnermr@iupui.edu\nFrom: hu2@iupui.edu\nFrom: josrodri@iupui.edu\nFrom: wagnermr@iupui.edu\nFrom: rjlowe@iupui.edu\nFrom: zqian@umich.edu\nFrom: zqian@umich.edu\nFrom: gopal.ramasammycook@gmail.com\nFrom: david.horwitz@uct.ac.za\nFrom: david.horwitz@uct.ac.za\nFrom: david.horwitz@uct.ac.za\nFrom: david.horwitz@uct.ac.za\nFrom: ian@caret.cam.ac.uk\nFrom: ajpoland@iupui.edu\nFrom: aaronz@vt.edu\nFrom: aaronz@vt.edu\nFrom: aaronz@vt.edu\nFrom: jimeng@umich.edu\nFrom: aaronz@vt.edu\nFrom: aaronz@vt.edu\nFrom: aaronz@vt.edu\nFrom: rjlowe@iupui.edu\nFrom: jimeng@umich.edu\nFrom: sgithens@caret.cam.ac.uk\nFrom: sgithens@caret.cam.ac.uk\nFrom: aaronz@vt.edu\nFrom: aaronz@vt.edu\nFrom: aaronz@vt.edu\nFrom: aaronz@vt.edu\nFrom: aaronz@vt.edu\nFrom: aaronz@vt.edu\nFrom: aaronz@vt.edu\nFrom: rjlowe@iupui.edu\nFrom: rjlowe@iupui.edu\nFrom: rjlowe@iupui.edu\nFrom: ray@media.berkeley.edu\nFrom: ajpoland@iupui.edu\nFrom: rjlowe@iupui.edu\nFrom: ajpoland@iupui.edu\nFrom: rjlowe@iupui.edu\nFrom: rjlowe@iupui.edu\nFrom: rjlowe@iupui.edu\nFrom: cwen@iupui.edu\nFrom: bkirschn@umich.edu\nFrom: gsilver@umich.edu\nFrom: john.ellis@rsmart.com\nFrom: aaronz@vt.edu\nFrom: bkirschn@umich.edu\nFrom: gopal.ramasammycook@gmail.com\nFrom: chmaurer@iupui.edu\nFrom: chmaurer@iupui.edu\nFrom: chmaurer@iupui.edu\nFrom: dlhaines@umich.edu\nFrom: dlhaines@umich.edu\nFrom: ajpoland@iupui.edu\nFrom: aaronz@vt.edu\nFrom: sgithens@caret.cam.ac.uk\nFrom: aaronz@vt.edu\nFrom: jimeng@umich.edu\nFrom: ostermmg@whitman.edu\nFrom: ostermmg@whitman.edu\nFrom: jimeng@umich.edu\nFrom: aaronz@vt.edu\nFrom: aaronz@vt.edu\nFrom: dlhaines@umich.edu\nFrom: dlhaines@umich.edu\nFrom: dlhaines@umich.edu\nFrom: dlhaines@umich.edu\nFrom: dlhaines@umich.edu\nFrom: sgithens@caret.cam.ac.uk\nFrom: dlhaines@umich.edu\nFrom: dlhaines@umich.edu\nFrom: gopal.ramasammycook@gmail.com\nFrom: zqian@umich.edu\nFrom: chmaurer@iupui.edu\nFrom: chmaurer@iupui.edu\nFrom: dlhaines@umich.edu\nFrom: wagnermr@iupui.edu\nFrom: aaronz@vt.edu\nFrom: chmaurer@iupui.edu\nFrom: chmaurer@iupui.edu\nFrom: wagnermr@iupui.edu\nFrom: ian@caret.cam.ac.uk\nFrom: aaronz@vt.edu\nFrom: aaronz@vt.edu\nFrom: ian@caret.cam.ac.uk\nFrom: aaronz@vt.edu\nFrom: aaronz@vt.edu\nFrom: aaronz@vt.edu\nFrom: zqian@umich.edu\nFrom: aaronz@vt.edu\nFrom: aaronz@vt.edu\nFrom: aaronz@vt.edu\nFrom: kimsooil@bu.edu\nFrom: kimsooil@bu.edu\nFrom: aaronz@vt.edu\nFrom: nuno@ufp.pt\nFrom: arwhyte@umich.edu\nFrom: dlhaines@umich.edu\nFrom: dlhaines@umich.edu\nFrom: ajpoland@iupui.edu\nFrom: mmmay@indiana.edu\nFrom: zqian@umich.edu\nFrom: mmmay@indiana.edu\nFrom: ajpoland@iupui.edu\nFrom: rjlowe@iupui.edu\nFrom: rjlowe@iupui.edu\nFrom: aaronz@vt.edu\nFrom: aaronz@vt.edu\nFrom: aaronz@vt.edu\nFrom: ajpoland@iupui.edu\nFrom: wagnermr@iupui.edu\nFrom: aaronz@vt.edu\nFrom: aaronz@vt.edu\nFrom: aaronz@vt.edu\nFrom: aaronz@vt.edu\nFrom: aaronz@vt.edu\nFrom: aaronz@vt.edu\nFrom: aaronz@vt.edu\nFrom: aaronz@vt.edu\nFrom: aaronz@vt.edu\nFrom: sgithens@caret.cam.ac.uk\nFrom: ian@caret.cam.ac.uk\nFrom: mmmay@indiana.edu\nFrom: mmmay@indiana.edu\nFrom: mmmay@indiana.edu\nFrom: josrodri@iupui.edu\nFrom: josrodri@iupui.edu\nFrom: mmmay@indiana.edu\nFrom: mmmay@indiana.edu\nFrom: mmmay@indiana.edu\nFrom: mmmay@indiana.edu\nFrom: dlhaines@umich.edu\nFrom: dlhaines@umich.edu\nFrom: josrodri@iupui.edu\nFrom: zqian@umich.edu\nFrom: arwhyte@umich.edu\nFrom: rjlowe@iupui.edu\nFrom: dlhaines@umich.edu\nFrom: arwhyte@umich.edu\nFrom: arwhyte@umich.edu\nFrom: arwhyte@umich.edu\nFrom: arwhyte@umich.edu\nFrom: dlhaines@umich.edu\nFrom: dlhaines@umich.edu\nFrom: arwhyte@umich.edu\nFrom: arwhyte@umich.edu\nFrom: arwhyte@umich.edu\nFrom: arwhyte@umich.edu\nFrom: arwhyte@umich.edu\nFrom: wagnermr@iupui.edu\nFrom: zqian@umich.edu\nFrom: zqian@umich.edu\nFrom: mmmay@indiana.edu\nFrom: josrodri@iupui.edu\nFrom: gjthomas@iupui.edu\nFrom: mmmay@indiana.edu\nFrom: mmmay@indiana.edu\nFrom: mmmay@indiana.edu\nFrom: mmmay@indiana.edu\nFrom: mmmay@indiana.edu\nFrom: mmmay@indiana.edu\nFrom: mmmay@indiana.edu\nFrom: mmmay@indiana.edu\nFrom: sgithens@caret.cam.ac.uk\nFrom: mmmay@indiana.edu\nFrom: mmmay@indiana.edu\nFrom: mmmay@indiana.edu\nFrom: ray@media.berkeley.edu\nFrom: mmmay@indiana.edu\nFrom: mmmay@indiana.edu\nFrom: david.horwitz@uct.ac.za\nFrom: antranig@caret.cam.ac.uk\nFrom: ggolden@umich.edu\nFrom: antranig@caret.cam.ac.uk\nFrom: ggolden@umich.edu\nFrom: mmmay@indiana.edu\nFrom: mmmay@indiana.edu\nFrom: david.horwitz@uct.ac.za\nFrom: mmmay@indiana.edu\nFrom: mmmay@indiana.edu\nFrom: mmmay@indiana.edu\nFrom: mmmay@indiana.edu\nFrom: mmmay@indiana.edu\nFrom: mmmay@indiana.edu\nFrom: mmmay@indiana.edu\nFrom: mmmay@indiana.edu\nFrom: mmmay@indiana.edu\nFrom: wagnermr@iupui.edu\nFrom: rjlowe@iupui.edu\nFrom: gopal.ramasammycook@gmail.com\nFrom: david.horwitz@uct.ac.za\nFrom: zqian@umich.edu\nFrom: zqian@umich.edu\nFrom: ian@caret.cam.ac.uk\nFrom: ray@media.berkeley.edu\nFrom: hu2@iupui.edu\nFrom: mmmay@indiana.edu\nFrom: bkirschn@umich.edu\nFrom: mmmay@indiana.edu\nFrom: mmmay@indiana.edu\nFrom: mmmay@indiana.edu\nFrom: mmmay@indiana.edu\nFrom: mmmay@indiana.edu\nFrom: zqian@umich.edu\nFrom: zqian@umich.edu\nFrom: zqian@umich.edu\nFrom: ray@media.berkeley.edu\nFrom: ray@media.berkeley.edu\nFrom: zqian@umich.edu\nFrom: zqian@umich.edu\nFrom: csev@umich.edu\nFrom: josrodri@iupui.edu\nFrom: csev@umich.edu\nFrom: zqian@umich.edu\nFrom: bahollad@indiana.edu\nFrom: aaronz@vt.edu\nFrom: jzaremba@unicon.net\nFrom: ajpoland@iupui.edu\nFrom: aaronz@vt.edu\nFrom: csev@umich.edu\nFrom: rjlowe@iupui.edu\nFrom: nuno@ufp.pt\nFrom: nuno@ufp.pt\nFrom: mmmay@indiana.edu\nFrom: bkirschn@umich.edu\nFrom: jimeng@umich.edu\nFrom: bkirschn@umich.edu\nFrom: bkirschn@umich.edu\nFrom: zqian@umich.edu\nFrom: zqian@umich.edu\nFrom: aaronz@vt.edu\nFrom: john.ellis@rsmart.com\nFrom: zqian@umich.edu\nFrom: jzaremba@unicon.net\nFrom: jimeng@umich.edu\nFrom: bkirschn@umich.edu\nFrom: bkirschn@umich.edu\nFrom: bkirschn@umich.edu\nFrom: bkirschn@umich.edu\nFrom: zqian@umich.edu\nFrom: ktsao@stanford.edu\nFrom: mmmay@indiana.edu\nFrom: dlhaines@umich.edu\nFrom: zqian@umich.edu\nFrom: dlhaines@umich.edu\nFrom: bkirschn@umich.edu\nFrom: zqian@umich.edu\nFrom: bkirschn@umich.edu\nFrom: ray@media.berkeley.edu\nFrom: ian@caret.cam.ac.uk\nFrom: ian@caret.cam.ac.uk\nFrom: zach.thomas@txstate.edu\nFrom: ostermmg@whitman.edu\nFrom: bkirschn@umich.edu\nFrom: mmmay@indiana.edu\nFrom: mmmay@indiana.edu\nFrom: mmmay@indiana.edu\nFrom: wagnermr@iupui.edu\nFrom: mmmay@indiana.edu\nFrom: mmmay@indiana.edu\nFrom: mmmay@indiana.edu\nFrom: zach.thomas@txstate.edu\nFrom: wagnermr@iupui.edu\nFrom: gsilver@umich.edu\nFrom: gjthomas@iupui.edu\nFrom: gjthomas@iupui.edu\nFrom: hu2@iupui.edu\nFrom: ajpoland@iupui.edu\nFrom: wagnermr@iupui.edu\nFrom: david.horwitz@uct.ac.za\nFrom: zqian@umich.edu\nFrom: jzaremba@unicon.net\nFrom: cwen@iupui.edu\nFrom: ktsao@stanford.edu\nFrom: bahollad@indiana.edu\nFrom: zach.thomas@txstate.edu\nFrom: cwen@iupui.edu\nFrom: ajpoland@iupui.edu\nFrom: wagnermr@iupui.edu\nFrom: wagnermr@iupui.edu\nFrom: aaronz@vt.edu\nFrom: sgithens@caret.cam.ac.uk\nFrom: a.fish@lancaster.ac.uk\nFrom: aaronz@vt.edu\nFrom: david.horwitz@uct.ac.za\nFrom: david.horwitz@uct.ac.za\nFrom: zqian@umich.edu\nFrom: jzaremba@unicon.net\nFrom: zach.thomas@txstate.edu\nFrom: jzaremba@unicon.net\nFrom: dlhaines@umich.edu\nFrom: dlhaines@umich.edu\nFrom: dlhaines@umich.edu\nFrom: dlhaines@umich.edu\nFrom: dlhaines@umich.edu\nFrom: dlhaines@umich.edu\nFrom: dlhaines@umich.edu\nFrom: zqian@umich.edu\nFrom: chmaurer@iupui.edu\nFrom: john.ellis@rsmart.com\nFrom: ajpoland@iupui.edu\nFrom: rjlowe@iupui.edu\nFrom: chmaurer@iupui.edu\nFrom: ajpoland@iupui.edu\nFrom: rjlowe@iupui.edu\nFrom: kimsooil@bu.edu\nFrom: dlhaines@umich.edu\nFrom: dlhaines@umich.edu\nFrom: dlhaines@umich.edu\nFrom: zqian@umich.edu\nFrom: kimsooil@bu.edu\nFrom: nuno@ufp.pt\nFrom: kimsooil@bu.edu\nFrom: ajpoland@iupui.edu\nFrom: chmaurer@iupui.edu\nFrom: ajpoland@iupui.edu\nFrom: ajpoland@iupui.edu\nFrom: ajpoland@iupui.edu\nFrom: ajpoland@iupui.edu\nFrom: ajpoland@iupui.edu\nFrom: ajpoland@iupui.edu\nFrom: ajpoland@iupui.edu\nFrom: ajpoland@iupui.edu\nFrom: ajpoland@iupui.edu\nFrom: ajpoland@iupui.edu\nFrom: ajpoland@iupui.edu\nFrom: ajpoland@iupui.edu\nFrom: ajpoland@iupui.edu\nFrom: ajpoland@iupui.edu\nFrom: ajpoland@iupui.edu\nFrom: ajpoland@iupui.edu\nFrom: ajpoland@iupui.edu\nFrom: ajpoland@iupui.edu\nFrom: ajpoland@iupui.edu\nFrom: dlhaines@umich.edu\nFrom: rjlowe@iupui.edu\nFrom: rjlowe@iupui.edu\nFrom: wagnermr@iupui.edu\nFrom: david.horwitz@uct.ac.za\nFrom: jleasia@umich.edu\nFrom: david.horwitz@uct.ac.za\nFrom: mmmay@indiana.edu\nFrom: mmmay@indiana.edu\nFrom: mmmay@indiana.edu\nFrom: mmmay@indiana.edu\nFrom: mmmay@indiana.edu\nFrom: mmmay@indiana.edu\nFrom: mmmay@indiana.edu\nFrom: mmmay@indiana.edu\nFrom: mmmay@indiana.edu\nFrom: mmmay@indiana.edu\nFrom: mmmay@indiana.edu\nFrom: mmmay@indiana.edu\nFrom: mmmay@indiana.edu\nFrom: mmmay@indiana.edu\nFrom: mmmay@indiana.edu\nFrom: mmmay@indiana.edu\nFrom: mmmay@indiana.edu\nFrom: mmmay@indiana.edu\nFrom: mmmay@indiana.edu\nFrom: mmmay@indiana.edu\nFrom: mmmay@indiana.edu\nFrom: mmmay@indiana.edu\nFrom: mmmay@indiana.edu\nFrom: mmmay@indiana.edu\nFrom: mmmay@indiana.edu\nFrom: cwen@iupui.edu\nFrom: mmmay@indiana.edu\nFrom: mmmay@indiana.edu\nFrom: mmmay@indiana.edu\nFrom: kimsooil@bu.edu\nFrom: mmmay@indiana.edu\nFrom: zqian@umich.edu\nFrom: mmmay@indiana.edu\nFrom: mmmay@indiana.edu\nFrom: mmmay@indiana.edu\nFrom: mmmay@indiana.edu\nFrom: mmmay@indiana.edu\nFrom: mmmay@indiana.edu\nFrom: mmmay@indiana.edu\nFrom: mmmay@indiana.edu\nFrom: mmmay@indiana.edu\nFrom: mmmay@indiana.edu\nFrom: kimsooil@bu.edu\nFrom: aaronz@vt.edu\nFrom: dlhaines@umich.edu\nFrom: zqian@umich.edu\nFrom: mmmay@indiana.edu\nFrom: dlhaines@umich.edu\nFrom: cwen@iupui.edu\nFrom: kimsooil@bu.edu\nFrom: kimsooil@bu.edu\nFrom: kimsooil@bu.edu\nFrom: hu2@iupui.edu\nFrom: zqian@umich.edu\nFrom: kimsooil@bu.edu\nFrom: aaronz@vt.edu\nFrom: aaronz@vt.edu\nFrom: aaronz@vt.edu\nFrom: rjlowe@iupui.edu\nFrom: ajpoland@iupui.edu\nFrom: rjlowe@iupui.edu\nFrom: rjlowe@iupui.edu\nFrom: hu2@iupui.edu\nFrom: dlhaines@umich.edu\nFrom: a.fish@lancaster.ac.uk\nFrom: a.fish@lancaster.ac.uk\nFrom: a.fish@lancaster.ac.uk\nFrom: gsilver@umich.edu\nFrom: mbreuker@loi.nl\nFrom: mbreuker@loi.nl\nFrom: mbreuker@loi.nl\nFrom: mbreuker@loi.nl\nFrom: mbreuker@loi.nl\nFrom: mbreuker@loi.nl\nFrom: ajpoland@iupui.edu\nFrom: rjlowe@iupui.edu\nFrom: rjlowe@iupui.edu\nFrom: a.fish@lancaster.ac.uk\nFrom: a.fish@lancaster.ac.uk\nFrom: a.fish@lancaster.ac.uk\nFrom: dlhaines@umich.edu\nFrom: mbreuker@loi.nl\nFrom: david.horwitz@uct.ac.za\nFrom: zach.thomas@txstate.edu\nFrom: jimeng@umich.edu\nFrom: zqian@umich.edu\nFrom: jzaremba@unicon.net\nFrom: colin.clark@utoronto.ca\nFrom: ray@media.berkeley.edu\nFrom: ray@media.berkeley.edu\nFrom: ray@media.berkeley.edu\nFrom: ray@media.berkeley.edu\nFrom: louis@media.berkeley.edu\nFrom: dlhaines@umich.edu\nFrom: dlhaines@umich.edu\nFrom: dlhaines@umich.edu\nFrom: dlhaines@umich.edu\nFrom: ajpoland@iupui.edu\nFrom: wagnermr@iupui.edu\nFrom: zqian@umich.edu\nFrom: ktsao@stanford.edu\nFrom: ray@media.berkeley.edu\nFrom: aaronz@vt.edu\nFrom: zqian@umich.edu\nFrom: aaronz@vt.edu\nFrom: bahollad@indiana.edu\nFrom: aaronz@vt.edu\nFrom: zqian@umich.edu\nFrom: ray@media.berkeley.edu\nFrom: zqian@umich.edu\nFrom: zqian@umich.edu\nFrom: zqian@umich.edu\nFrom: bahollad@indiana.edu\nFrom: ray@media.berkeley.edu\nFrom: zqian@umich.edu\nFrom: zqian@umich.edu\nFrom: louis@media.berkeley.edu\nFrom: zqian@umich.edu\nFrom: ray@media.berkeley.edu\nFrom: jzaremba@unicon.net\nFrom: louis@media.berkeley.edu\nFrom: rjlowe@iupui.edu\nFrom: ajpoland@iupui.edu\nFrom: ray@media.berkeley.edu\nFrom: ajpoland@iupui.edu\nFrom: rjlowe@iupui.edu\nFrom: ray@media.berkeley.edu\nFrom: zqian@umich.edu\nFrom: bkirschn@umich.edu\nFrom: mbreuker@loi.nl\nFrom: zqian@umich.edu\nFrom: gsilver@umich.edu\nFrom: louis@media.berkeley.edu\nFrom: bkirschn@umich.edu\nFrom: bkirschn@umich.edu\nFrom: ajpoland@iupui.edu\nFrom: rjlowe@iupui.edu\nFrom: rjlowe@iupui.edu\nFrom: zach.thomas@txstate.edu\nFrom: ian@caret.cam.ac.uk\nFrom: ian@caret.cam.ac.uk\nFrom: ray@media.berkeley.edu\nFrom: ktsao@stanford.edu\nFrom: zqian@umich.edu\nFrom: ian@caret.cam.ac.uk\nFrom: chmaurer@iupui.edu\nFrom: ian@caret.cam.ac.uk\nFrom: gjthomas@iupui.edu\nFrom: gjthomas@iupui.edu\nFrom: aaronz@vt.edu\nFrom: ian@caret.cam.ac.uk\nFrom: aaronz@vt.edu\nFrom: aaronz@vt.edu\nFrom: zqian@umich.edu\nFrom: aaronz@vt.edu\nFrom: aaronz@vt.edu\nFrom: mbreuker@loi.nl\nFrom: ian@caret.cam.ac.uk\nFrom: zqian@umich.edu\nFrom: zqian@umich.edu\nFrom: ian@caret.cam.ac.uk\nFrom: ian@caret.cam.ac.uk\nFrom: ian@caret.cam.ac.uk\nFrom: ian@caret.cam.ac.uk\nFrom: dlhaines@umich.edu\nFrom: ian@caret.cam.ac.uk\nFrom: ian@caret.cam.ac.uk\nFrom: ian@caret.cam.ac.uk\nFrom: zqian@umich.edu\nFrom: ian@caret.cam.ac.uk\nFrom: aaronz@vt.edu\nFrom: zqian@umich.edu\nFrom: zqian@umich.edu\nFrom: zqian@umich.edu\nFrom: chmaurer@iupui.edu\nFrom: chmaurer@iupui.edu\nFrom: zqian@umich.edu\nFrom: gjthomas@iupui.edu\nFrom: gsilver@umich.edu\nFrom: ian@caret.cam.ac.uk\nFrom: ajpoland@iupui.edu\nFrom: aaronz@vt.edu\nFrom: aaronz@vt.edu\nFrom: aaronz@vt.edu\nFrom: zach.thomas@txstate.edu\nFrom: ajpoland@iupui.edu\nFrom: zqian@umich.edu\nFrom: zqian@umich.edu\nFrom: zqian@umich.edu\nFrom: gjthomas@iupui.edu\nFrom: rjlowe@iupui.edu\nFrom: rjlowe@iupui.edu\nFrom: dlhaines@umich.edu\nFrom: rjlowe@iupui.edu\nFrom: rjlowe@iupui.edu\nFrom: aaronz@vt.edu\nFrom: aaronz@vt.edu\nFrom: cwen@iupui.edu\nFrom: ktsao@stanford.edu\nFrom: aaronz@vt.edu\nFrom: aaronz@vt.edu\nFrom: gsilver@umich.edu\nFrom: gsilver@umich.edu\nFrom: zqian@umich.edu\nFrom: jzaremba@unicon.net\nFrom: aaronz@vt.edu\nFrom: aaronz@vt.edu\nFrom: dlhaines@umich.edu\nFrom: dlhaines@umich.edu\nFrom: dlhaines@umich.edu\nFrom: ajpoland@iupui.edu\nFrom: rjlowe@iupui.edu\nFrom: rjlowe@iupui.edu\nFrom: rjlowe@iupui.edu\nFrom: dlhaines@umich.edu\nFrom: aaronz@vt.edu\nFrom: aaronz@vt.edu\nFrom: aaronz@vt.edu\nFrom: aaronz@vt.edu\nFrom: aaronz@vt.edu\nFrom: aaronz@vt.edu\nFrom: ian@caret.cam.ac.uk\nFrom: aaronz@vt.edu\nFrom: aaronz@vt.edu\nFrom: ktsao@stanford.edu\nFrom: ian@caret.cam.ac.uk\nFrom: zqian@umich.edu\nFrom: zqian@umich.edu\nFrom: zqian@umich.edu\nFrom: zqian@umich.edu\nFrom: zqian@umich.edu\nFrom: aaronz@vt.edu\nFrom: aaronz@vt.edu\nFrom: jzaremba@unicon.net\nFrom: dlhaines@umich.edu\nFrom: chmaurer@iupui.edu\nFrom: zach.thomas@txstate.edu\nFrom: dlhaines@umich.edu\n"
    }
   ],
   "source": [
    "file = open('mbox.txt')\n",
    "for line in file:\n",
    "    line = line.rstrip()\n",
    "    if not line.startswith('From:'):\n",
    "        continue\n",
    "    print(line)"
   ]
  },
  {
   "cell_type": "code",
   "execution_count": 7,
   "metadata": {
    "tags": []
   },
   "outputs": [
    {
     "output_type": "stream",
     "name": "stdout",
     "text": "INNOCENT\nX-DSPAM-PROCESSED: FRI JAN  4 04:07:34 2008\nX-DSPAM-CONFIDENCE: 0.7554\nX-DSPAM-PROBABILITY: 0.0000\n\nDETAILS: HTTP://SOURCE.SAKAIPROJECT.ORG/VIEWSVN/?VIEW=REV&REV=39750\n\nAUTHOR: STEPHEN.MARQUARD@UCT.AC.ZA\nDATE: 2008-01-04 04:05:43 -0500 (FRI, 04 JAN 2008)\nNEW REVISION: 39750\n\nMODIFIED:\nEVENT/BRANCHES/SAK-6216/EVENT-UTIL/UTIL/SRC/JAVA/ORG/SAKAIPROJECT/UTIL/EMAILNOTIFICATION.JAVA\nLOG:\nSAK-6216 MERGE EVENT CHANGE FROM SAK-11169 (R39033) TO SYNCHRONIZE BRANCH WITH 2-5-X (FOR CONVENIENCE FOR UCT LOCAL BUILD)\n\n----------------------\nTHIS AUTOMATIC NOTIFICATION MESSAGE WAS SENT BY SAKAI COLLAB (HTTPS://COLLAB.SAKAIPROJECT.ORG/PORTAL) FROM THE SOURCE SITE.\nYOU CAN MODIFY HOW YOU RECEIVE NOTIFICATIONS AT MY WORKSPACE > PREFERENCES.\n\n\n\nFROM LOUIS@MEDIA.BERKELEY.EDU THU JAN  3 19:51:21 2008\nRETURN-PATH: <POSTMASTER@COLLAB.SAKAIPROJECT.ORG>\nRECEIVED: FROM MURDER (MAIL.UMICH.EDU [141.211.14.91])\n\t BY FRANKENSTEIN.MAIL.UMICH.EDU (CYRUS V2.3.8) WITH LMTPA;\n\t THU, 03 JAN 2008 19:51:21 -0500\nX-SIEVE: CMU SIEVE 2.3\nRECEIVED: FROM MURDER ([UNIX SOCKET])\n\t BY MAIL.UMICH.EDU (CYRUS V2.2.12) WITH LMTPA;\n\t THU, 03 JAN 2008 19:51:21 -0500\nRECEIVED: FROM EYEWITNESS.MR.ITD.UMICH.EDU (EYEWITNESS.MR.ITD.UMICH.EDU [141.211.93.142])\n\tBY JACKNIFE.MAIL.UMICH.EDU () WITH ESMTP ID M040PJHB027171;\n\tTHU, 3 JAN 2008 19:51:19 -0500\nRECEIVED: FROM PAPLOO.UHI.AC.UK (APP1.PROD.COLLAB.UHI.AC.UK [194.35.219.184])\n\tBY EYEWITNESS.MR.ITD.UMICH.EDU ID 477D8300.AC098.32562 ;\n\t 3 JAN 2008 19:51:15 -0500\nRECEIVED: FROM PAPLOO.UHI.AC.UK (LOCALHOST [127.0.0.1])\n\tBY PAPLOO.UHI.AC.UK (POSTFIX) WITH ESMTP ID E6CC4B9F8A;\n\tFRI,  4 JAN 2008 00:36:06 +0000 (GMT)\nMESSAGE-ID: <200801040023.M040NPCC005473@NAKAMURA.UITS.IUPUI.EDU>\nMIME-VERSION: 1.0\nCONTENT-TRANSFER-ENCODING: 7BIT\nRECEIVED: FROM PROD.COLLAB.UHI.AC.UK ([194.35.219.182])\n          BY PAPLOO.UHI.AC.UK (JAMES SMTP SERVER 2.1.3) WITH SMTP ID 754\n          FOR <SOURCE@COLLAB.SAKAIPROJECT.ORG>;\n          FRI, 4 JAN 2008 00:35:43 +0000 (GMT)\nRECEIVED: FROM NAKAMURA.UITS.IUPUI.EDU (NAKAMURA.UITS.IUPUI.EDU [134.68.220.122])\n\tBY SHMI.UHI.AC.UK (POSTFIX) WITH ESMTP ID 8889842C49\n\tFOR <SOURCE@COLLAB.SAKAIPROJECT.ORG>; FRI,  4 JAN 2008 00:25:00 +0000 (GMT)\nRECEIVED: FROM NAKAMURA.UITS.IUPUI.EDU (LOCALHOST [127.0.0.1])\n\tBY NAKAMURA.UITS.IUPUI.EDU (8.12.11.20060308/8.12.11) WITH ESMTP ID M040NPGM005475\n\tFOR <SOURCE@COLLAB.SAKAIPROJECT.ORG>; THU, 3 JAN 2008 19:23:51 -0500\nRECEIVED: (FROM APACHE@LOCALHOST)\n\tBY NAKAMURA.UITS.IUPUI.EDU (8.12.11.20060308/8.12.11/SUBMIT) ID M040NPCC005473\n\tFOR SOURCE@COLLAB.SAKAIPROJECT.ORG; THU, 3 JAN 2008 19:23:51 -0500\nDATE: THU, 3 JAN 2008 19:23:51 -0500\nX-AUTHENTICATION-WARNING: NAKAMURA.UITS.IUPUI.EDU: APACHE SET SENDER TO LOUIS@MEDIA.BERKELEY.EDU USING -F\nTO: SOURCE@COLLAB.SAKAIPROJECT.ORG\nFROM: LOUIS@MEDIA.BERKELEY.EDU\nSUBJECT: [SAKAI] SVN COMMIT: R39749 - IN BSPACE/SITE-MANAGE/SAKAI_2-4-X/SITE-MANAGE-TOOL/TOOL/SRC: BUNDLE WEBAPP/VM/SITESETUP\nX-CONTENT-TYPE-OUTER-ENVELOPE: TEXT/PLAIN; CHARSET=UTF-8\nX-CONTENT-TYPE-MESSAGE-BODY: TEXT/PLAIN; CHARSET=UTF-8\nCONTENT-TYPE: TEXT/PLAIN; CHARSET=UTF-8\nX-DSPAM-RESULT: INNOCENT\nX-DSPAM-PROCESSED: THU JAN  3 19:51:20 2008\nX-DSPAM-CONFIDENCE: 0.6956\nX-DSPAM-PROBABILITY: 0.0000\n\nDETAILS: HTTP://SOURCE.SAKAIPROJECT.ORG/VIEWSVN/?VIEW=REV&REV=39749\n\nAUTHOR: LOUIS@MEDIA.BERKELEY.EDU\nDATE: 2008-01-03 19:23:46 -0500 (THU, 03 JAN 2008)\nNEW REVISION: 39749\n\nMODIFIED:\nBSPACE/SITE-MANAGE/SAKAI_2-4-X/SITE-MANAGE-TOOL/TOOL/SRC/BUNDLE/SITESETUPGENERIC.PROPERTIES\nBSPACE/SITE-MANAGE/SAKAI_2-4-X/SITE-MANAGE-TOOL/TOOL/SRC/WEBAPP/VM/SITESETUP/CHEF_SITE-IMPORTSITES.VM\nLOG:\nBSP-1420 UPDATE TEXT TO CLARIFY \"RE-USE MATERIALS...\" OPTION IN WS SETUP\n\n----------------------\nTHIS AUTOMATIC NOTIFICATION MESSAGE WAS SENT BY SAKAI COLLAB (HTTPS://COLLAB.SAKAIPROJECT.ORG/PORTAL) FROM THE SOURCE SITE.\nYOU CAN MODIFY HOW YOU RECEIVE NOTIFICATIONS AT MY WORKSPACE > PREFERENCES.\n\n\n\nFROM LOUIS@MEDIA.BERKELEY.EDU THU JAN  3 17:18:23 2008\nRETURN-PATH: <POSTMASTER@COLLAB.SAKAIPROJECT.ORG>\nRECEIVED: FROM MURDER (MAIL.UMICH.EDU [141.211.14.91])\n\t BY FRANKENSTEIN.MAIL.UMICH.EDU (CYRUS V2.3.8) WITH LMTPA;\n\t THU, 03 JAN 2008 17:18:23 -0500\nX-SIEVE: CMU SIEVE 2.3\nRECEIVED: FROM MURDER ([UNIX SOCKET])\n\t BY MAIL.UMICH.EDU (CYRUS V2.2.12) WITH LMTPA;\n\t THU, 03 JAN 2008 17:18:23 -0500\nRECEIVED: FROM SALEMSLOT.MR.ITD.UMICH.EDU (SALEMSLOT.MR.ITD.UMICH.EDU [141.211.14.58])\n\tBY JACKNIFE.MAIL.UMICH.EDU () WITH ESMTP ID M03MIMXY027729;\n\tTHU, 3 JAN 2008 17:18:22 -0500\nRECEIVED: FROM PAPLOO.UHI.AC.UK (APP1.PROD.COLLAB.UHI.AC.UK [194.35.219.184])\n\tBY SALEMSLOT.MR.ITD.UMICH.EDU ID 477D5F23.797F6.16348 ;\n\t 3 JAN 2008 17:18:14 -0500\nRECEIVED: FROM PAPLOO.UHI.AC.UK (LOCALHOST [127.0.0.1])\n\tBY PAPLOO.UHI.AC.UK (POSTFIX) WITH ESMTP ID EF439B98CE;\n\tTHU,  3 JAN 2008 22:18:19 +0000 (GMT)\nMESSAGE-ID: <200801032216.M03MGHDA005292@NAKAMURA.UITS.IUPUI.EDU>\nMIME-VERSION: 1.0\nCONTENT-TRANSFER-ENCODING: 7BIT\nRECEIVED: FROM PROD.COLLAB.UHI.AC.UK ([194.35.219.182])\n          BY PAPLOO.UHI.AC.UK (JAMES SMTP SERVER 2.1.3) WITH SMTP ID 236\n          FOR <SOURCE@COLLAB.SAKAIPROJECT.ORG>;\n          THU, 3 JAN 2008 22:18:04 +0000 (GMT)\nRECEIVED: FROM NAKAMURA.UITS.IUPUI.EDU (NAKAMURA.UITS.IUPUI.EDU [134.68.220.122])\n\tBY SHMI.UHI.AC.UK (POSTFIX) WITH ESMTP ID 905D53C2FD\n\tFOR <SOURCE@COLLAB.SAKAIPROJECT.ORG>; THU,  3 JAN 2008 22:17:52 +0000 (GMT)\nRECEIVED: FROM NAKAMURA.UITS.IUPUI.EDU (LOCALHOST [127.0.0.1])\n\tBY NAKAMURA.UITS.IUPUI.EDU (8.12.11.20060308/8.12.11) WITH ESMTP ID M03MGHRS005294\n\tFOR <SOURCE@COLLAB.SAKAIPROJECT.ORG>; THU, 3 JAN 2008 17:16:43 -0500\nRECEIVED: (FROM APACHE@LOCALHOST)\n\tBY NAKAMURA.UITS.IUPUI.EDU (8.12.11.20060308/8.12.11/SUBMIT) ID M03MGHDA005292\n\tFOR SOURCE@COLLAB.SAKAIPROJECT.ORG; THU, 3 JAN 2008 17:16:43 -0500\nDATE: THU, 3 JAN 2008 17:16:43 -0500\nX-AUTHENTICATION-WARNING: NAKAMURA.UITS.IUPUI.EDU: APACHE SET SENDER TO LOUIS@MEDIA.BERKELEY.EDU USING -F\nTO: SOURCE@COLLAB.SAKAIPROJECT.ORG\nFROM: LOUIS@MEDIA.BERKELEY.EDU\nSUBJECT: [SAKAI] SVN COMMIT: R39746 - IN BSPACE/SITE-MANAGE/SAKAI_2-4-X/SITE-MANAGE-TOOL/TOOL/SRC: BUNDLE WEBAPP/VM/SITESETUP\nX-CONTENT-TYPE-OUTER-ENVELOPE: TEXT/PLAIN; CHARSET=UTF-8\nX-CONTENT-TYPE-MESSAGE-BODY: TEXT/PLAIN; CHARSET=UTF-8\nCONTENT-TYPE: TEXT/PLAIN; CHARSET=UTF-8\nX-DSPAM-RESULT: INNOCENT\nX-DSPAM-PROCESSED: THU JAN  3 17:18:23 2008\nX-DSPAM-CONFIDENCE: 0.6959\nX-DSPAM-PROBABILITY: 0.0000\n\nDETAILS: HTTP://SOURCE.SAKAIPROJECT.ORG/VIEWSVN/?VIEW=REV&REV=39746\n\nAUTHOR: LOUIS@MEDIA.BERKELEY.EDU\nDATE: 2008-01-03 17:16:39 -0500 (THU, 03 JAN 2008)\nNEW REVISION: 39746\n\nMODIFIED:\nBSPACE/SITE-MANAGE/SAKAI_2-4-X/SITE-MANAGE-TOOL/TOOL/SRC/BUNDLE/SITESETUPGENERIC.PROPERTIES\nBSPACE/SITE-MANAGE/SAKAI_2-4-X/SITE-MANAGE-TOOL/TOOL/SRC/WEBAPP/VM/SITESETUP/CHEF_SITE-SITEINFO-DUPLICATE.VM\nLOG:\nBSP-1421 ADD TEXT TO CLARIFY \"DUPLICATE SITE\" OPTION IN SITE INFO\n\n----------------------\nTHIS AUTOMATIC NOTIFICATION MESSAGE WAS SENT BY SAKAI COLLAB (HTTPS://COLLAB.SAKAIPROJECT.ORG/PORTAL) FROM THE SOURCE SITE.\nYOU CAN MODIFY HOW YOU RECEIVE NOTIFICATIONS AT MY WORKSPACE > PREFERENCES.\n\n\n\nFROM RAY@MEDIA.BERKELEY.EDU THU JAN  3 17:07:00 2008\nRETURN-PATH: <POSTMASTER@COLLAB.SAKAIPROJECT.ORG>\nRECEIVED: FROM MURDER (MAIL.UMICH.EDU [141.211.14.39])\n\t BY FRANKENSTEIN.MAIL.UMICH.EDU (CYRUS V2.3.8) WITH LMTPA;\n\t THU, 03 JAN 2008 17:07:00 -0500\nX-SIEVE: CMU SIEVE 2.3\nRECEIVED: FROM MURDER ([UNIX SOCKET])\n\t BY MAIL.UMICH.EDU (CYRUS V2.2.12) WITH LMTPA;\n\t THU, 03 JAN 2008 17:07:00 -0500\nRECEIVED: FROM ANNIEHALL.MR.ITD.UMICH.EDU (ANNIEHALL.MR.ITD.UMICH.EDU [141.211.93.141])\n\tBY FAITHFUL.MAIL.UMICH.EDU () WITH ESMTP ID M03M6XAQ014868;\n\tTHU, 3 JAN 2008 17:06:59 -0500\nRECEIVED: FROM PAPLOO.UHI.AC.UK (APP1.PROD.COLLAB.UHI.AC.UK [194.35.219.184])\n\tBY ANNIEHALL.MR.ITD.UMICH.EDU ID 477D5C7A.4FE1F.22211 ;\n\t 3 JAN 2008 17:06:53 -0500\nRECEIVED: FROM PAPLOO.UHI.AC.UK (LOCALHOST [127.0.0.1])\n\tBY PAPLOO.UHI.AC.UK (POSTFIX) WITH ESMTP ID 0BC8D7225E;\n\tTHU,  3 JAN 2008 22:06:57 +0000 (GMT)\nMESSAGE-ID: <200801032205.M03M5EA7005273@NAKAMURA.UITS.IUPUI.EDU>\nMIME-VERSION: 1.0\nCONTENT-TRANSFER-ENCODING: 7BIT\nRECEIVED: FROM PROD.COLLAB.UHI.AC.UK ([194.35.219.182])\n          BY PAPLOO.UHI.AC.UK (JAMES SMTP SERVER 2.1.3) WITH SMTP ID 554\n          FOR <SOURCE@COLLAB.SAKAIPROJECT.ORG>;\n          THU, 3 JAN 2008 22:06:34 +0000 (GMT)\nRECEIVED: FROM NAKAMURA.UITS.IUPUI.EDU (NAKAMURA.UITS.IUPUI.EDU [134.68.220.122])\n\tBY SHMI.UHI.AC.UK (POSTFIX) WITH ESMTP ID 2AB513C2FD\n\tFOR <SOURCE@COLLAB.SAKAIPROJECT.ORG>; THU,  3 JAN 2008 22:06:23 +0000 (GMT)\nRECEIVED: FROM NAKAMURA.UITS.IUPUI.EDU (LOCALHOST [127.0.0.1])\n\tBY NAKAMURA.UITS.IUPUI.EDU (8.12.11.20060308/8.12.11) WITH ESMTP ID M03M5EQA005275\n\tFOR <SOURCE@COLLAB.SAKAIPROJECT.ORG>; THU, 3 JAN 2008 17:05:14 -0500\nRECEIVED: (FROM APACHE@LOCALHOST)\n\tBY NAKAMURA.UITS.IUPUI.EDU (8.12.11.20060308/8.12.11/SUBMIT) ID M03M5EA7005273\n\tFOR SOURCE@COLLAB.SAKAIPROJECT.ORG; THU, 3 JAN 2008 17:05:14 -0500\nDATE: THU, 3 JAN 2008 17:05:14 -0500\nX-AUTHENTICATION-WARNING: NAKAMURA.UITS.IUPUI.EDU: APACHE SET SENDER TO RAY@MEDIA.BERKELEY.EDU USING -F\nTO: SOURCE@COLLAB.SAKAIPROJECT.ORG\nFROM: RAY@MEDIA.BERKELEY.EDU\nSUBJECT: [SAKAI] SVN COMMIT: R39745 - PROVIDERS/TRUNK/CM/CM-AUTHZ-PROVIDER/SRC/JAVA/ORG/SAKAIPROJECT/COURSEMANAGEMENT/IMPL/PROVIDER\nX-CONTENT-TYPE-OUTER-ENVELOPE: TEXT/PLAIN; CHARSET=UTF-8\nX-CONTENT-TYPE-MESSAGE-BODY: TEXT/PLAIN; CHARSET=UTF-8\nCONTENT-TYPE: TEXT/PLAIN; CHARSET=UTF-8\nX-DSPAM-RESULT: INNOCENT\nX-DSPAM-PROCESSED: THU JAN  3 17:07:00 2008\nX-DSPAM-CONFIDENCE: 0.7556\nX-DSPAM-PROBABILITY: 0.0000\n\nDETAILS: HTTP://SOURCE.SAKAIPROJECT.ORG/VIEWSVN/?VIEW=REV&REV=39745\n\nAUTHOR: RAY@MEDIA.BERKELEY.EDU\nDATE: 2008-01-03 17:05:11 -0500 (THU, 03 JAN 2008)\nNEW REVISION: 39745\n\nMODIFIED:\nPROVIDERS/TRUNK/CM/CM-AUTHZ-PROVIDER/SRC/JAVA/ORG/SAKAIPROJECT/COURSEMANAGEMENT/IMPL/PROVIDER/COURSEMANAGEMENTGROUPPROVIDER.JAVA\nLOG:\nSAK-12602 FIX LOGIC WHEN A USER HAS MULTIPLE ROLES IN A SECTION\n\n----------------------\nTHIS AUTOMATIC NOTIFICATION MESSAGE WAS SENT BY SAKAI COLLAB (HTTPS://COLLAB.SAKAIPROJECT.ORG/PORTAL) FROM THE SOURCE SITE.\nYOU CAN MODIFY HOW YOU RECEIVE NOTIFICATIONS AT MY WORKSPACE > PREFERENCES.\n\n\n\nFROM CWEN@IUPUI.EDU THU JAN  3 16:34:40 2008\nRETURN-PATH: <POSTMASTER@COLLAB.SAKAIPROJECT.ORG>\nRECEIVED: FROM MURDER (MAIL.UMICH.EDU [141.211.14.34])\n\t BY FRANKENSTEIN.MAIL.UMICH.EDU (CYRUS V2.3.8) WITH LMTPA;\n\t THU, 03 JAN 2008 16:34:40 -0500\nX-SIEVE: CMU SIEVE 2.3\nRECEIVED: FROM MURDER ([UNIX SOCKET])\n\t BY MAIL.UMICH.EDU (CYRUS V2.2.12) WITH LMTPA;\n\t THU, 03 JAN 2008 16:34:40 -0500\nRECEIVED: FROM ICESTORM.MR.ITD.UMICH.EDU (ICESTORM.MR.ITD.UMICH.EDU [141.211.93.149])\n\tBY CHAOS.MAIL.UMICH.EDU () WITH ESMTP ID M03LYDY1029538;\n\tTHU, 3 JAN 2008 16:34:39 -0500\nRECEIVED: FROM PAPLOO.UHI.AC.UK (APP1.PROD.COLLAB.UHI.AC.UK [194.35.219.184])\n\tBY ICESTORM.MR.ITD.UMICH.EDU ID 477D54EA.13F34.26602 ;\n\t 3 JAN 2008 16:34:36 -0500\nRECEIVED: FROM PAPLOO.UHI.AC.UK (LOCALHOST [127.0.0.1])\n\tBY PAPLOO.UHI.AC.UK (POSTFIX) WITH ESMTP ID CC710ADC79;\n\tTHU,  3 JAN 2008 21:34:29 +0000 (GMT)\nMESSAGE-ID: <200801032133.M03LX3GG005191@NAKAMURA.UITS.IUPUI.EDU>\nMIME-VERSION: 1.0\nCONTENT-TRANSFER-ENCODING: 7BIT\nRECEIVED: FROM PROD.COLLAB.UHI.AC.UK ([194.35.219.182])\n          BY PAPLOO.UHI.AC.UK (JAMES SMTP SERVER 2.1.3) WITH SMTP ID 611\n          FOR <SOURCE@COLLAB.SAKAIPROJECT.ORG>;\n          THU, 3 JAN 2008 21:34:08 +0000 (GMT)\nRECEIVED: FROM NAKAMURA.UITS.IUPUI.EDU (NAKAMURA.UITS.IUPUI.EDU [134.68.220.122])\n\tBY SHMI.UHI.AC.UK (POSTFIX) WITH ESMTP ID 43C4242B55\n\tFOR <SOURCE@COLLAB.SAKAIPROJECT.ORG>; THU,  3 JAN 2008 21:34:12 +0000 (GMT)\nRECEIVED: FROM NAKAMURA.UITS.IUPUI.EDU (LOCALHOST [127.0.0.1])\n\tBY NAKAMURA.UITS.IUPUI.EDU (8.12.11.20060308/8.12.11) WITH ESMTP ID M03LX3VB005193\n\tFOR <SOURCE@COLLAB.SAKAIPROJECT.ORG>; THU, 3 JAN 2008 16:33:03 -0500\nRECEIVED: (FROM APACHE@LOCALHOST)\n\tBY NAKAMURA.UITS.IUPUI.EDU (8.12.11.20060308/8.12.11/SUBMIT) ID M03LX3GG005191\n\tFOR SOURCE@COLLAB.SAKAIPROJECT.ORG; THU, 3 JAN 2008 16:33:03 -0500\nDATE: THU, 3 JAN 2008 16:33:03 -0500\nX-AUTHENTICATION-WARNING: NAKAMURA.UITS.IUPUI.EDU: APACHE SET SENDER TO CWEN@IUPUI.EDU USING -F\nTO: SOURCE@COLLAB.SAKAIPROJECT.ORG\nFROM: CWEN@IUPUI.EDU\nSUBJECT: [SAKAI] SVN COMMIT: R39744 - ONCOURSE/BRANCHES/ONCOURSE_OPC_122007\nX-CONTENT-TYPE-OUTER-ENVELOPE: TEXT/PLAIN; CHARSET=UTF-8\nX-CONTENT-TYPE-MESSAGE-BODY: TEXT/PLAIN; CHARSET=UTF-8\nCONTENT-TYPE: TEXT/PLAIN; CHARSET=UTF-8\nX-DSPAM-RESULT: INNOCENT\nX-DSPAM-PROCESSED: THU JAN  3 16:34:40 2008\nX-DSPAM-CONFIDENCE: 0.9846\nX-DSPAM-PROBABILITY: 0.0000\n\nDETAILS: HTTP://SOURCE.SAKAIPROJECT.ORG/VIEWSVN/?VIEW=REV&REV=39744\n\nAUTHOR: CWEN@IUPUI.EDU\nDATE: 2008-01-03 16:33:02 -0500 (THU, 03 JAN 2008)\nNEW REVISION: 39744\n\nMODIFIED:\nONCOURSE/BRANCHES/ONCOURSE_OPC_122007/\nONCOURSE/BRANCHES/ONCOURSE_OPC_122007/.EXTERNALS\nLOG:\nUPDATE EXTERNAL FOR GB.\n\n----------------------\nTHIS AUTOMATIC NOTIFICATION MESSAGE WAS SENT BY SAKAI COLLAB (HTTPS://COLLAB.SAKAIPROJECT.ORG/PORTAL) FROM THE SOURCE SITE.\nYOU CAN MODIFY HOW YOU RECEIVE NOTIFICATIONS AT MY WORKSPACE > PREFERENCES.\n\n\n\nFROM CWEN@IUPUI.EDU THU JAN  3 16:29:07 2008\nRETURN-PATH: <POSTMASTER@COLLAB.SAKAIPROJECT.ORG>\nRECEIVED: FROM MURDER (MAIL.UMICH.EDU [141.211.14.46])\n\t BY FRANKENSTEIN.MAIL.UMICH.EDU (CYRUS V2.3.8) WITH LMTPA;\n\t THU, 03 JAN 2008 16:29:07 -0500\nX-SIEVE: CMU SIEVE 2.3\nRECEIVED: FROM MURDER ([UNIX SOCKET])\n\t BY MAIL.UMICH.EDU (CYRUS V2.2.12) WITH LMTPA;\n\t THU, 03 JAN 2008 16:29:07 -0500\nRECEIVED: FROM GALAXYQUEST.MR.ITD.UMICH.EDU (GALAXYQUEST.MR.ITD.UMICH.EDU [141.211.93.145])\n\tBY FAN.MAIL.UMICH.EDU () WITH ESMTP ID M03LT6UW027749;\n\tTHU, 3 JAN 2008 16:29:06 -0500\nRECEIVED: FROM PAPLOO.UHI.AC.UK (APP1.PROD.COLLAB.UHI.AC.UK [194.35.219.184])\n\tBY GALAXYQUEST.MR.ITD.UMICH.EDU ID 477D5397.E161D.20326 ;\n\t 3 JAN 2008 16:28:58 -0500\nRECEIVED: FROM PAPLOO.UHI.AC.UK (LOCALHOST [127.0.0.1])\n\tBY PAPLOO.UHI.AC.UK (POSTFIX) WITH ESMTP ID DEC65ADC79;\n\tTHU,  3 JAN 2008 21:28:52 +0000 (GMT)\nMESSAGE-ID: <200801032127.M03LRUQH005177@NAKAMURA.UITS.IUPUI.EDU>\nMIME-VERSION: 1.0\nCONTENT-TRANSFER-ENCODING: 7BIT\nRECEIVED: FROM PROD.COLLAB.UHI.AC.UK ([194.35.219.182])\n          BY PAPLOO.UHI.AC.UK (JAMES SMTP SERVER 2.1.3) WITH SMTP ID 917\n          FOR <SOURCE@COLLAB.SAKAIPROJECT.ORG>;\n          THU, 3 JAN 2008 21:28:39 +0000 (GMT)\nRECEIVED: FROM NAKAMURA.UITS.IUPUI.EDU (NAKAMURA.UITS.IUPUI.EDU [134.68.220.122])\n\tBY SHMI.UHI.AC.UK (POSTFIX) WITH ESMTP ID 1FBB042B30\n\tFOR <SOURCE@COLLAB.SAKAIPROJECT.ORG>; THU,  3 JAN 2008 21:28:38 +0000 (GMT)\nRECEIVED: FROM NAKAMURA.UITS.IUPUI.EDU (LOCALHOST [127.0.0.1])\n\tBY NAKAMURA.UITS.IUPUI.EDU (8.12.11.20060308/8.12.11) WITH ESMTP ID M03LRUK4005179\n\tFOR <SOURCE@COLLAB.SAKAIPROJECT.ORG>; THU, 3 JAN 2008 16:27:30 -0500\nRECEIVED: (FROM APACHE@LOCALHOST)\n\tBY NAKAMURA.UITS.IUPUI.EDU (8.12.11.20060308/8.12.11/SUBMIT) ID M03LRUQH005177\n\tFOR SOURCE@COLLAB.SAKAIPROJECT.ORG; THU, 3 JAN 2008 16:27:30 -0500\nDATE: THU, 3 JAN 2008 16:27:30 -0500\nX-AUTHENTICATION-WARNING: NAKAMURA.UITS.IUPUI.EDU: APACHE SET SENDER TO CWEN@IUPUI.EDU USING -F\nTO: SOURCE@COLLAB.SAKAIPROJECT.ORG\nFROM: CWEN@IUPUI.EDU\nSUBJECT: [SAKAI] SVN COMMIT: R39743 - GRADEBOOK/BRANCHES/ONCOURSE_2-4-2/APP/UI/SRC/JAVA/ORG/SAKAIPROJECT/TOOL/GRADEBOOK/UI\nX-CONTENT-TYPE-OUTER-ENVELOPE: TEXT/PLAIN; CHARSET=UTF-8\nX-CONTENT-TYPE-MESSAGE-BODY: TEXT/PLAIN; CHARSET=UTF-8\nCONTENT-TYPE: TEXT/PLAIN; CHARSET=UTF-8\nX-DSPAM-RESULT: INNOCENT\nX-DSPAM-PROCESSED: THU JAN  3 16:29:07 2008\nX-DSPAM-CONFIDENCE: 0.8509\nX-DSPAM-PROBABILITY: 0.0000\n\nDETAILS: HTTP://SOURCE.SAKAIPROJECT.ORG/VIEWSVN/?VIEW=REV&REV=39743\n\nAUTHOR: CWEN@IUPUI.EDU\nDATE: 2008-01-03 16:27:29 -0500 (THU, 03 JAN 2008)\nNEW REVISION: 39743\n\nMODIFIED:\nGRADEBOOK/BRANCHES/ONCOURSE_2-4-2/APP/UI/SRC/JAVA/ORG/SAKAIPROJECT/TOOL/GRADEBOOK/UI/ROSTERBEAN.JAVA\nLOG:\nSVN MERGE -C 39403 HTTPS://SOURCE.SAKAIPROJECT.ORG/SVN/GRADEBOOK/TRUNK\nU    APP/UI/SRC/JAVA/ORG/SAKAIPROJECT/TOOL/GRADEBOOK/UI/ROSTERBEAN.JAVA\n\nSVN LOG -R 39403 HTTPS://SOURCE.SAKAIPROJECT.ORG/SVN/GRADEBOOK/TRUNK\n------------------------------------------------------------------------\nR39403 | WAGNERMR@IUPUI.EDU | 2007-12-17 17:11:08 -0500 (MON, 17 DEC 2007) | 3 LINES\n\nSAK-12504\nHTTP://JIRA.SAKAIPROJECT.ORG/JIRA/BROWSE/SAK-12504\nVIEWING \"ALL GRADES\" PAGE AS A TA WITH GRADER PERMISSIONS CAUSES STACK TRACE\n------------------------------------------------------------------------\n\n\n----------------------\nTHIS AUTOMATIC NOTIFICATION MESSAGE WAS SENT BY SAKAI COLLAB (HTTPS://COLLAB.SAKAIPROJECT.ORG/PORTAL) FROM THE SOURCE SITE.\nYOU CAN MODIFY HOW YOU RECEIVE NOTIFICATIONS AT MY WORKSPACE > PREFERENCES.\n\n\n\nFROM CWEN@IUPUI.EDU THU JAN  3 16:23:48 2008\nRETURN-PATH: <POSTMASTER@COLLAB.SAKAIPROJECT.ORG>\nRECEIVED: FROM MURDER (MAIL.UMICH.EDU [141.211.14.91])\n\t BY FRANKENSTEIN.MAIL.UMICH.EDU (CYRUS V2.3.8) WITH LMTPA;\n\t THU, 03 JAN 2008 16:23:48 -0500\nX-SIEVE: CMU SIEVE 2.3\nRECEIVED: FROM MURDER ([UNIX SOCKET])\n\t BY MAIL.UMICH.EDU (CYRUS V2.2.12) WITH LMTPA;\n\t THU, 03 JAN 2008 16:23:48 -0500\nRECEIVED: FROM SALEMSLOT.MR.ITD.UMICH.EDU (SALEMSLOT.MR.ITD.UMICH.EDU [141.211.14.58])\n\tBY JACKNIFE.MAIL.UMICH.EDU () WITH ESMTP ID M03LNLF0002115;\n\tTHU, 3 JAN 2008 16:23:47 -0500\nRECEIVED: FROM PAPLOO.UHI.AC.UK (APP1.PROD.COLLAB.UHI.AC.UK [194.35.219.184])\n\tBY SALEMSLOT.MR.ITD.UMICH.EDU ID 477D525E.1448.30389 ;\n\t 3 JAN 2008 16:23:44 -0500\nRECEIVED: FROM PAPLOO.UHI.AC.UK (LOCALHOST [127.0.0.1])\n\tBY PAPLOO.UHI.AC.UK (POSTFIX) WITH ESMTP ID 9D005B9D06;\n\tTHU,  3 JAN 2008 21:23:38 +0000 (GMT)\nMESSAGE-ID: <200801032122.M03LMFO4005148@NAKAMURA.UITS.IUPUI.EDU>\nMIME-VERSION: 1.0\nCONTENT-TRANSFER-ENCODING: 7BIT\nRECEIVED: FROM PROD.COLLAB.UHI.AC.UK ([194.35.219.182])\n          BY PAPLOO.UHI.AC.UK (JAMES SMTP SERVER 2.1.3) WITH SMTP ID 6\n          FOR <SOURCE@COLLAB.SAKAIPROJECT.ORG>;\n          THU, 3 JAN 2008 21:23:24 +0000 (GMT)\nRECEIVED: FROM NAKAMURA.UITS.IUPUI.EDU (NAKAMURA.UITS.IUPUI.EDU [134.68.220.122])\n\tBY SHMI.UHI.AC.UK (POSTFIX) WITH ESMTP ID 3535542B69\n\tFOR <SOURCE@COLLAB.SAKAIPROJECT.ORG>; THU,  3 JAN 2008 21:23:24 +0000 (GMT)\nRECEIVED: FROM NAKAMURA.UITS.IUPUI.EDU (LOCALHOST [127.0.0.1])\n\tBY NAKAMURA.UITS.IUPUI.EDU (8.12.11.20060308/8.12.11) WITH ESMTP ID M03LMFTT005150\n\tFOR <SOURCE@COLLAB.SAKAIPROJECT.ORG>; THU, 3 JAN 2008 16:22:15 -0500\nRECEIVED: (FROM APACHE@LOCALHOST)\n\tBY NAKAMURA.UITS.IUPUI.EDU (8.12.11.20060308/8.12.11/SUBMIT) ID M03LMFO4005148\n\tFOR SOURCE@COLLAB.SAKAIPROJECT.ORG; THU, 3 JAN 2008 16:22:15 -0500\nDATE: THU, 3 JAN 2008 16:22:15 -0500\nX-AUTHENTICATION-WARNING: NAKAMURA.UITS.IUPUI.EDU: APACHE SET SENDER TO CWEN@IUPUI.EDU USING -F\nTO: SOURCE@COLLAB.SAKAIPROJECT.ORG\nFROM: CWEN@IUPUI.EDU\nSUBJECT: [SAKAI] SVN COMMIT: R39742 - GRADEBOOK/BRANCHES/ONCOURSE_2-4-2/APP/UI/SRC/JAVA/ORG/SAKAIPROJECT/TOOL/GRADEBOOK/UI\nX-CONTENT-TYPE-OUTER-ENVELOPE: TEXT/PLAIN; CHARSET=UTF-8\nX-CONTENT-TYPE-MESSAGE-BODY: TEXT/PLAIN; CHARSET=UTF-8\nCONTENT-TYPE: TEXT/PLAIN; CHARSET=UTF-8\nX-DSPAM-RESULT: INNOCENT\nX-DSPAM-PROCESSED: THU JAN  3 16:23:48 2008\nX-DSPAM-CONFIDENCE: 0.9907\nX-DSPAM-PROBABILITY: 0.0000\n\nDETAILS: HTTP://SOURCE.SAKAIPROJECT.ORG/VIEWSVN/?VIEW=REV&REV=39742\n\nAUTHOR: CWEN@IUPUI.EDU\nDATE: 2008-01-03 16:22:14 -0500 (THU, 03 JAN 2008)\nNEW REVISION: 39742\n\nMODIFIED:\nGRADEBOOK/BRANCHES/ONCOURSE_2-4-2/APP/UI/SRC/JAVA/ORG/SAKAIPROJECT/TOOL/GRADEBOOK/UI/ROSTERBEAN.JAVA\nLOG:\nSVN MERGE -C 35014 HTTPS://SOURCE.SAKAIPROJECT.ORG/SVN/GRADEBOOK/TRUNK\nU    APP/UI/SRC/JAVA/ORG/SAKAIPROJECT/TOOL/GRADEBOOK/UI/ROSTERBEAN.JAVA\n\nSVN LOG -R 35014 HTTPS://SOURCE.SAKAIPROJECT.ORG/SVN/GRADEBOOK/TRUNK\n------------------------------------------------------------------------\nR35014 | WAGNERMR@IUPUI.EDU | 2007-09-12 16:17:59 -0400 (WED, 12 SEP 2007) | 3 LINES\n\nSAK-11458\nHTTP://BUGS.SAKAIPROJECT.ORG/JIRA/BROWSE/SAK-11458\nCOURSE GRADE DOES NOT APPEAR ON \"ALL GRADES\" PAGE IF NO CATEGORIES IN GB\n------------------------------------------------------------------------\n\n\n----------------------\nTHIS AUTOMATIC NOTIFICATION MESSAGE WAS SENT BY SAKAI COLLAB (HTTPS://COLLAB.SAKAIPROJECT.ORG/PORTAL) FROM THE SOURCE SITE.\nYOU CAN MODIFY HOW YOU RECEIVE NOTIFICATIONS AT MY WORKSPACE > PREFERENCES.\n\n"
    }
   ],
   "source": [
    "file = open('mbox-short.txt')\n",
    "for line in file:\n",
    "    line = line.rstrip()\n",
    "    print(line.upper())"
   ]
  },
  {
   "cell_type": "code",
   "execution_count": 2,
   "metadata": {
    "tags": []
   },
   "outputs": [
    {
     "output_type": "stream",
     "name": "stdout",
     "text": "NA NA BOO BOO TO YOU - You have been punk'd!\n"
    }
   ],
   "source": [
    "fname = input('Enter the file to be read:')\n",
    "if fname == 'na na boo boo':\n",
    "    print('NA NA BOO BOO TO YOU - You have been punk\\'d!')\n",
    "else:   \n",
    "    try:\n",
    "        file = open(fname, 'r')\n",
    "    except:\n",
    "        print('Not a valid filename')\n",
    "        exit()\n",
    "    count = 0\n",
    "    sum = 0\n",
    "    for line in file:\n",
    "        line = line.rstrip()\n",
    "        if line.startswith('X-DSPAM-Confidence:'):\n",
    "            print(line)\n",
    "            space_index = line.find(' ')\n",
    "            num = line[space_index + 1:]\n",
    "            sum = sum + float(num)\n",
    "            count = count + 1\n",
    "    avg = (sum)/count\n",
    "    print('\\nThere were', count, 'similar items')\n",
    "    print('Average:', avg)            \n"
   ]
  },
  {
   "cell_type": "code",
   "execution_count": 4,
   "metadata": {
    "tags": []
   },
   "outputs": [
    {
     "output_type": "stream",
     "name": "stdout",
     "text": "['H', 'a', 'h', 'a', 'h', 'a', 'h', 'a']\n['Hahahaha']\nHahahaha\n"
    }
   ],
   "source": [
    "s = 'Hahahaha'\n",
    "t = list(s)\n",
    "print(t)\n",
    "print(s.split(\" \"))\n",
    "print(s)"
   ]
  },
  {
   "cell_type": "code",
   "execution_count": 20,
   "metadata": {
    "tags": []
   },
   "outputs": [
    {
     "output_type": "stream",
     "name": "stdout",
     "text": "None\n"
    }
   ],
   "source": [
    "def chop(a):\n",
    "    a = a[1:len(a)-1]\n",
    "    return None\n",
    "# chop([1,2,3,1,1,1])\n",
    "\n",
    "def middle(b):\n",
    "    b = b[1:len(b)-1]\n",
    "    return b\n",
    "print(middle([1,1,1,1,11,1,2,2,3,4,4,5]))"
   ]
  },
  {
   "cell_type": "code",
   "execution_count": 28,
   "metadata": {
    "tags": []
   },
   "outputs": [
    {
     "output_type": "stream",
     "name": "stdout",
     "text": "dict_values([123, 234])\n"
    }
   ],
   "source": [
    "a = {'aa':123, 'ab':234}\n",
    "b = a.values()\n",
    "print(b)"
   ]
  },
  {
   "cell_type": "code",
   "execution_count": 30,
   "metadata": {
    "tags": []
   },
   "outputs": [
    {
     "output_type": "stream",
     "name": "stdout",
     "text": "{'b': 1, 'r': 2, 'o': 2, 'n': 1, 't': 1, 's': 2, 'a': 1, 'u': 2}\n"
    }
   ],
   "source": [
    "word = 'brontosaurus'\n",
    "d = dict()\n",
    "for c in word:\n",
    "    if c not in d:\n",
    "        d[c] = 1\n",
    "    else:\n",
    "        d[c] = d[c] + 1\n",
    "print(d)"
   ]
  },
  {
   "cell_type": "code",
   "execution_count": 50,
   "metadata": {
    "tags": []
   },
   "outputs": [
    {
     "output_type": "stream",
     "name": "stdout",
     "text": "['S', 't', 'r', 'i', 'n', 'g', ' ', 'h', 'o', ' ', 'm', 'a']\n"
    }
   ],
   "source": [
    "e= 'String ho ma'\n",
    "# e.list()\n",
    "print(list(e))"
   ]
  },
  {
   "cell_type": "code",
   "execution_count": 53,
   "metadata": {
    "tags": []
   },
   "outputs": [
    {
     "output_type": "stream",
     "name": "stdout",
     "text": "{'A': 1, 'a': 8, 'y': 1, 'u': 1, 's': 1, 'h': 9}\n"
    }
   ],
   "source": [
    "c = dict()\n",
    "aaa = 'Aaaaaaaaayushhhhhhhhh'\n",
    "for i in aaa:\n",
    "    c[i] = c.get(i,0) + 1\n",
    "print(c)"
   ]
  },
  {
   "cell_type": "code",
   "execution_count": 1,
   "metadata": {
    "tags": []
   },
   "outputs": [
    {
     "output_type": "stream",
     "name": "stdout",
     "text": "{'But': 1, 'soft': 1, 'what': 1, 'light': 1, 'through': 1, 'yonder': 1, 'window': 1, 'breaks': 1, 'It': 1, 'is': 3, 'the': 3, 'east': 1, 'and': 3, 'Juliet': 1, 'sun': 2, 'Arise': 1, 'fair': 1, 'kill': 1, 'envious': 1, 'moon': 1, 'Who': 1, 'already': 1, 'sick': 1, 'pale': 1, 'with': 1, 'grief': 1}\n"
    }
   ],
   "source": [
    "fname = input('Enter the file name: ')\n",
    "try:\n",
    "    fhand = open(fname)\n",
    "except:\n",
    "    print('File cannot be opened:', fname)\n",
    "    exit()\n",
    "\n",
    "counts = dict()\n",
    "for line in fhand:\n",
    "    words = line.split()\n",
    "    for word in words:\n",
    "        if word not in counts:\n",
    "            counts[word] = 1\n",
    "        else:\n",
    "            counts[word] += 1\n",
    "\n",
    "print(counts)"
   ]
  },
  {
   "cell_type": "code",
   "execution_count": 6,
   "metadata": {},
   "outputs": [
    {
     "output_type": "execute_result",
     "data": {
      "text/plain": "'Asdasdasdasd'"
     },
     "metadata": {},
     "execution_count": 6
    }
   ],
   "source": [
    "import string\n",
    "string.punctuation\n",
    "string.ascii_letters\n",
    "string.whitespace\n",
    "string."
   ]
  },
  {
   "cell_type": "code",
   "execution_count": 12,
   "metadata": {
    "tags": []
   },
   "outputs": [
    {
     "output_type": "stream",
     "name": "stdout",
     "text": "{'romeo': 40, 'and': 42, 'juliet': 32, 'act': 1, '2': 2, 'scene': 2, 'ii': 1, 'capulets': 1, 'orchard': 2, 'enter': 1, 'he': 5, 'jests': 1, 'at': 9, 'scars': 1, 'that': 30, 'never': 2, 'felt': 1, 'a': 24, 'wound': 1, 'appears': 1, 'above': 6, 'window': 2, 'but': 18, 'soft': 1, 'what': 11, 'light': 5, 'through': 2, 'yonder': 2, 'breaks': 1, 'it': 22, 'is': 21, 'the': 34, 'east': 1, 'sun': 2, 'arise': 1, 'fair': 4, 'kill': 2, 'envious': 2, 'moon': 4, 'who': 5, 'already': 1, 'sick': 2, 'pale': 1, 'with': 8, 'grief': 2, 'thou': 32, 'her': 14, 'maid': 2, 'art': 7, 'far': 2, 'more': 9, 'than': 6, 'she': 9, 'be': 14, 'not': 18, 'since': 1, 'vestal': 1, 'livery': 1, 'green': 1, 'none': 1, 'fools': 1, 'do': 7, 'wear': 1, 'cast': 1, 'off': 1, 'my': 29, 'lady': 2, 'o': 11, 'love': 24, 'knew': 1, 'were': 9, 'speaks': 3, 'yet': 9, 'says': 1, 'nothing': 1, 'of': 20, 'eye': 2, 'discourses': 1, 'i': 61, 'will': 8, 'answer': 1, 'am': 7, 'too': 8, 'bold': 1, 'tis': 4, 'to': 34, 'me': 18, 'two': 1, 'fairest': 1, 'stars': 2, 'in': 13, 'all': 6, 'heaven': 3, 'having': 1, 'some': 3, 'business': 1, 'entreat': 1, 'eyes': 6, 'twinkle': 1, 'their': 6, 'spheres': 1, 'till': 4, 'they': 5, 'return': 1, 'if': 12, 'there': 3, 'head': 2, 'brightness': 1, 'cheek': 4, 'would': 16, 'shame': 1, 'those': 2, 'as': 12, 'daylight': 1, 'doth': 2, 'lamp': 1, 'airy': 2, 'region': 1, 'stream': 1, 'so': 10, 'bright': 2, 'birds': 1, 'sing': 1, 'think': 2, 'night': 16, 'see': 2, 'how': 5, 'leans': 1, 'upon': 5, 'hand': 4, 'glove': 1, 'might': 1, 'touch': 1, 'ay': 2, 'speak': 4, 'again': 6, 'angel': 1, 'for': 12, 'glorious': 1, 'this': 9, 'being': 2, 'oer': 1, 'winged': 1, 'messenger': 1, 'unto': 1, 'whiteupturned': 1, 'wondering': 1, 'mortals': 1, 'fall': 1, 'back': 4, 'gaze': 1, 'on': 4, 'him': 2, 'when': 2, 'bestrides': 1, 'lazypacing': 1, 'clouds': 1, 'sails': 1, 'bosom': 1, 'air': 1, 'wherefore': 2, 'deny': 2, 'thy': 20, 'father': 1, 'refuse': 1, 'name': 11, 'or': 4, 'wilt': 6, 'sworn': 1, 'ill': 8, 'no': 6, 'longer': 1, 'capulet': 1, 'aside': 1, 'shall': 6, 'hear': 2, 'enemy': 2, 'thyself': 1, 'though': 1, 'montague': 5, 'whats': 2, 'nor': 5, 'foot': 2, 'arm': 1, 'face': 2, 'any': 4, 'other': 4, 'part': 2, 'belonging': 1, 'man': 2, 'which': 7, 'we': 2, 'call': 3, 'rose': 1, 'by': 14, 'smell': 1, 'sweet': 8, 'calld': 1, 'retain': 1, 'dear': 7, 'perfection': 1, 'owes': 1, 'without': 1, 'title': 1, 'doff': 1, 'thee': 24, 'take': 3, 'myself': 2, 'word': 4, 'new': 1, 'baptized': 1, 'henceforth': 1, 'thus': 1, 'bescreend': 1, 'stumblest': 1, 'counsel': 2, 'know': 3, 'tell': 3, 'saint': 2, 'hateful': 1, 'because': 1, 'an': 2, 'had': 1, 'written': 1, 'tear': 2, 'ears': 2, 'have': 13, 'drunk': 1, 'hundred': 1, 'words': 2, 'tongues': 2, 'utterance': 1, 'sound': 2, 'neither': 1, 'either': 1, 'dislike': 1, 'camest': 1, 'hither': 1, 'walls': 2, 'are': 3, 'high': 1, 'hard': 1, 'climb': 1, 'place': 2, 'death': 2, 'considering': 1, 'kinsmen': 2, 'find': 2, 'here': 4, 'loves': 3, 'wings': 1, 'did': 3, 'oerperch': 1, 'these': 2, 'stony': 1, 'limits': 1, 'cannot': 1, 'hold': 1, 'out': 2, 'can': 2, 'dares': 1, 'attempt': 1, 'therefore': 3, 'let': 3, 'murder': 1, 'alack': 1, 'lies': 2, 'peril': 1, 'thine': 2, 'twenty': 2, 'swords': 1, 'look': 1, 'proof': 1, 'against': 1, 'enmity': 1, 'world': 3, 'saw': 1, 'nights': 1, 'cloak': 1, 'hide': 1, 'from': 4, 'sight': 1, 'them': 1, 'life': 1, 'better': 1, 'ended': 1, 'hate': 1, 'prorogued': 1, 'wanting': 1, 'whose': 1, 'direction': 1, 'foundst': 1, 'first': 1, 'prompt': 1, 'inquire': 1, 'lent': 2, 'pilot': 1, 'wert': 1, 'vast': 1, 'shore': 1, 'washd': 1, 'farthest': 1, 'sea': 2, 'adventure': 1, 'such': 2, 'merchandise': 1, 'knowst': 1, 'mask': 1, 'else': 3, 'maiden': 1, 'blush': 1, 'bepaint': 1, 'hast': 1, 'heard': 1, 'tonight': 3, 'fain': 3, 'dwell': 2, 'form': 1, 'spoke': 1, 'farewell': 1, 'compliment': 1, 'dost': 2, 'say': 5, 'swearst': 1, 'mayst': 2, 'prove': 4, 'false': 1, 'lovers': 2, 'perjuries': 1, 'then': 2, 'jove': 1, 'laughs': 1, 'gentle': 1, 'pronounce': 1, 'faithfully': 1, 'thinkst': 1, 'quickly': 1, 'won': 1, 'frown': 1, 'perverse': 1, 'nay': 1, 'woo': 1, 'truth': 1, 'fond': 1, 'havior': 1, 'trust': 1, 'gentleman': 1, 'true': 3, 'cunning': 1, 'strange': 2, 'should': 2, 'been': 1, 'must': 1, 'confess': 1, 'overheardst': 1, 'ere': 2, 'was': 1, 'ware': 1, 'passion': 1, 'pardon': 1, 'impute': 1, 'yielding': 1, 'dark': 1, 'hath': 1, 'discovered': 1, 'blessed': 3, 'swear': 6, 'tips': 1, 'silver': 1, 'fruittree': 1, 'tops': 1, 'inconstant': 1, 'monthly': 1, 'changes': 1, 'circled': 1, 'orb': 1, 'lest': 1, 'likewise': 1, 'variable': 1, 'gracious': 1, 'self': 1, 'god': 1, 'idolatry': 1, 'believe': 1, 'hearts': 1, 'well': 2, 'although': 1, 'joy': 2, 'contract': 1, 'rash': 1, 'unadvised': 1, 'sudden': 1, 'like': 3, 'lightning': 1, 'cease': 2, 'one': 2, 'lightens': 1, 'good': 9, 'bud': 1, 'summers': 1, 'ripening': 1, 'breath': 1, 'may': 2, 'beauteous': 1, 'flower': 1, 'next': 1, 'meet': 1, 'repose': 1, 'rest': 2, 'come': 5, 'heart': 1, 'within': 5, 'breast': 2, 'leave': 2, 'unsatisfied': 1, 'satisfaction': 1, 'canst': 1, 'exchange': 1, 'faithful': 1, 'vow': 1, 'mine': 3, 'gave': 1, 'before': 1, 'didst': 1, 'request': 1, 'give': 3, 'wouldst': 1, 'withdraw': 1, 'purpose': 2, 'frank': 1, 'wish': 1, 'thing': 1, 'bounty': 1, 'boundless': 1, 'deep': 1, 'both': 1, 'infinite': 1, 'nurse': 4, 'calls': 2, 'noise': 1, 'adieu': 1, 'anon': 1, 'stay': 2, 'little': 2, 'exit': 4, 'afeard': 1, 'dream': 1, 'flatteringsweet': 1, 'substantial': 1, 'reenter': 2, 'three': 1, 'indeed': 1, 'bent': 1, 'honourable': 1, 'marriage': 1, 'send': 3, 'tomorrow': 3, 'procure': 1, 'where': 2, 'time': 1, 'perform': 1, 'rite': 1, 'fortunes': 1, 'lay': 1, 'follow': 1, 'lord': 1, 'throughout': 1, 'madam': 2, 'anonbut': 1, 'meanst': 1, 'beseech': 1, 'suit': 1, 'thrive': 1, 'soul': 2, 'thousand': 2, 'times': 2, 'worse': 1, 'want': 1, 'goes': 1, 'toward': 2, 'schoolboys': 1, 'books': 1, 'school': 1, 'heavy': 1, 'looks': 1, 'retiring': 1, 'hist': 2, 'falconers': 1, 'voice': 1, 'lure': 1, 'tasselgentle': 1, 'bondage': 1, 'hoarse': 2, 'aloud': 1, 'cave': 1, 'echo': 1, 'make': 1, 'tongue': 1, 'repetition': 1, 'romeos': 1, 'silversweet': 1, 'softest': 1, 'music': 1, 'attending': 1, 'oclock': 1, 'hour': 1, 'nine': 1, 'fail': 1, 'years': 1, 'forgot': 1, 'why': 1, 'stand': 2, 'remember': 1, 'forget': 2, 'still': 3, 'remembering': 1, 'company': 1, 'forgetting': 1, 'home': 1, 'almost': 1, 'morning': 1, 'gone': 1, 'further': 1, 'wantons': 1, 'bird': 2, 'lets': 1, 'hop': 1, 'poor': 1, 'prisoner': 1, 'his': 3, 'twisted': 1, 'gyves': 1, 'silk': 1, 'thread': 1, 'plucks': 1, 'lovingjealous': 1, 'liberty': 1, 'much': 1, 'cherishing': 1, 'parting': 1, 'sorrow': 1, 'morrow': 1, 'sleep': 2, 'peace': 2, 'hence': 1, 'ghostly': 1, 'fathers': 1, 'cell': 1, 'help': 1, 'crave': 1, 'hap': 1}\n"
    }
   ],
   "source": [
    "import string\n",
    "\n",
    "fname = input('Enter the file name:')\n",
    "try:\n",
    "    fhand = open(fname)\n",
    "except:\n",
    "    print('Invalid filename!')\n",
    "    exit()\n",
    "count = dict()\n",
    "for line in fhand:\n",
    "    line = line.rstrip()\n",
    "    line = line.translate(line.maketrans('','',string.punctuation))\n",
    "    line = line.lower()\n",
    "    words = line.split()\n",
    "    for word in words:\n",
    "        if word not in count:\n",
    "            count[word] = 1\n",
    "        else:\n",
    "            count[word] +=1\n",
    "print(count)\n",
    "# print(words)"
   ]
  },
  {
   "cell_type": "code",
   "execution_count": 22,
   "metadata": {
    "tags": []
   },
   "outputs": [
    {
     "output_type": "stream",
     "name": "stdout",
     "text": "12 a\n13 b\n"
    }
   ],
   "source": [
    "a = {'a':12, 'b': 13}\n",
    "# t = list(a.items())\n",
    "# t.sort()\n",
    "# print(t)\n",
    "for key, val in list(a.items()):\n",
    "    print(val, key)"
   ]
  },
  {
   "cell_type": "code",
   "execution_count": 2,
   "metadata": {
    "tags": []
   },
   "outputs": [
    {
     "output_type": "stream",
     "name": "stdout",
     "text": "['09']\n['18']\n['16']\n['15']\n['15']\n['14']\n['11']\n['11']\n['11']\n['11']\n['11']\n['11']\n['10']\n['10']\n['10']\n['09']\n['07']\n['06']\n['04']\n['04']\n['04']\n['19']\n['17']\n['17']\n['16']\n['16']\n['16']\n"
    }
   ],
   "source": [
    "import re\n",
    "hand = open('mbox-short.txt')\n",
    "for line in hand:\n",
    "    line = line.rstrip()\n",
    "    x = re.findall('^From .* ([0-9][0-9]):', line)\n",
    "    if len(x) > 0: print(x)"
   ]
  },
  {
   "cell_type": "code",
   "execution_count": null,
   "metadata": {},
   "outputs": [],
   "source": []
  }
 ]
}